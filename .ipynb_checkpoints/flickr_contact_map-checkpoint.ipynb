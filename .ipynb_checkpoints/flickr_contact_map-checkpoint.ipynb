{
 "metadata": {
  "name": "",
  "signature": "sha256:a2a589c5537d44658a4eb304e600787e2c6cf11ce7c94c0067b1275f81881fc1"
 },
 "nbformat": 3,
 "nbformat_minor": 0,
 "worksheets": [
  {
   "cells": [
    {
     "cell_type": "markdown",
     "metadata": {},
     "source": [
      "# Mapping user contact list (if location is given)"
     ]
    },
    {
     "cell_type": "code",
     "collapsed": false,
     "input": [
      "import flickrapi\n",
      "import json\n",
      "import pandas as pd\n",
      "from geopy.geocoders import Nominatim\n",
      "import folium\n",
      "from IPython.display import HTML"
     ],
     "language": "python",
     "metadata": {},
     "outputs": [],
     "prompt_number": 2
    },
    {
     "cell_type": "code",
     "collapsed": false,
     "input": [
      "api_key = ''\n",
      "flickr = flickrapi.FlickrAPI(api_key, format='json')"
     ],
     "language": "python",
     "metadata": {},
     "outputs": [],
     "prompt_number": 5
    },
    {
     "cell_type": "markdown",
     "metadata": {},
     "source": [
      "## I. Extracting the contact list for one user\n",
      "As usual we need to clean a little bit the data given by flickr api so that we can use it for our purpose. This means:\n",
      "\n",
      "- Extracting the valid json part\n",
      "- Putting it into a data frame\n",
      "- Extracting again the list which is nested inside the frame and creating a new DataFrame object from this list."
     ]
    },
    {
     "cell_type": "code",
     "collapsed": true,
     "input": [
      "strPubList = flickr.contacts_getPublicList(user_id='92362511@N00')"
     ],
     "language": "python",
     "metadata": {},
     "outputs": [],
     "prompt_number": 8
    },
    {
     "cell_type": "code",
     "collapsed": false,
     "input": [
      "dfPubList = pd.read_json(strPubList[14:-1])"
     ],
     "language": "python",
     "metadata": {},
     "outputs": [],
     "prompt_number": 10
    },
    {
     "cell_type": "code",
     "collapsed": false,
     "input": [
      "dfPubList"
     ],
     "language": "python",
     "metadata": {},
     "outputs": [
      {
       "html": [
        "<div style=\"max-height:1000px;max-width:1500px;overflow:auto;\">\n",
        "<table border=\"1\" class=\"dataframe\">\n",
        "  <thead>\n",
        "    <tr style=\"text-align: right;\">\n",
        "      <th></th>\n",
        "      <th>contacts</th>\n",
        "      <th>stat</th>\n",
        "    </tr>\n",
        "  </thead>\n",
        "  <tbody>\n",
        "    <tr>\n",
        "      <th>contact</th>\n",
        "      <td> [{u'username': u'*Cinnamon', u'ignored': 0, u'...</td>\n",
        "      <td> ok</td>\n",
        "    </tr>\n",
        "    <tr>\n",
        "      <th>page</th>\n",
        "      <td>                                                 1</td>\n",
        "      <td> ok</td>\n",
        "    </tr>\n",
        "    <tr>\n",
        "      <th>pages</th>\n",
        "      <td>                                                 1</td>\n",
        "      <td> ok</td>\n",
        "    </tr>\n",
        "    <tr>\n",
        "      <th>per_page</th>\n",
        "      <td>                                              1000</td>\n",
        "      <td> ok</td>\n",
        "    </tr>\n",
        "    <tr>\n",
        "      <th>perpage</th>\n",
        "      <td>                                              1000</td>\n",
        "      <td> ok</td>\n",
        "    </tr>\n",
        "    <tr>\n",
        "      <th>total</th>\n",
        "      <td>                                               730</td>\n",
        "      <td> ok</td>\n",
        "    </tr>\n",
        "  </tbody>\n",
        "</table>\n",
        "</div>"
       ],
       "metadata": {},
       "output_type": "pyout",
       "prompt_number": 11,
       "text": [
        "                                                   contacts stat\n",
        "contact   [{u'username': u'*Cinnamon', u'ignored': 0, u'...   ok\n",
        "page                                                      1   ok\n",
        "pages                                                     1   ok\n",
        "per_page                                               1000   ok\n",
        "perpage                                                1000   ok\n",
        "total                                                   730   ok"
       ]
      }
     ],
     "prompt_number": 11
    },
    {
     "cell_type": "code",
     "collapsed": false,
     "input": [
      "dfContacts=pd.DataFrame(dfPubList['contacts']['contact'])"
     ],
     "language": "python",
     "metadata": {},
     "outputs": [],
     "prompt_number": 12
    },
    {
     "cell_type": "code",
     "collapsed": false,
     "input": [
      "dfContacts.head()"
     ],
     "language": "python",
     "metadata": {},
     "outputs": [
      {
       "html": [
        "<div style=\"max-height:1000px;max-width:1500px;overflow:auto;\">\n",
        "<table border=\"1\" class=\"dataframe\">\n",
        "  <thead>\n",
        "    <tr style=\"text-align: right;\">\n",
        "      <th></th>\n",
        "      <th>iconfarm</th>\n",
        "      <th>iconserver</th>\n",
        "      <th>ignored</th>\n",
        "      <th>nsid</th>\n",
        "      <th>rev_ignored</th>\n",
        "      <th>username</th>\n",
        "    </tr>\n",
        "  </thead>\n",
        "  <tbody>\n",
        "    <tr>\n",
        "      <th>0</th>\n",
        "      <td> 4</td>\n",
        "      <td> 3751</td>\n",
        "      <td> 0</td>\n",
        "      <td> 37451064@N00</td>\n",
        "      <td> 0</td>\n",
        "      <td>      *Cinnamon</td>\n",
        "    </tr>\n",
        "    <tr>\n",
        "      <th>1</th>\n",
        "      <td> 4</td>\n",
        "      <td> 3917</td>\n",
        "      <td> 0</td>\n",
        "      <td> 77557459@N02</td>\n",
        "      <td> 0</td>\n",
        "      <td>  *December Sun</td>\n",
        "    </tr>\n",
        "    <tr>\n",
        "      <th>2</th>\n",
        "      <td> 3</td>\n",
        "      <td> 2848</td>\n",
        "      <td> 0</td>\n",
        "      <td> 33564809@N02</td>\n",
        "      <td> 0</td>\n",
        "      <td>     *eduardoa*</td>\n",
        "    </tr>\n",
        "    <tr>\n",
        "      <th>3</th>\n",
        "      <td> 8</td>\n",
        "      <td> 7456</td>\n",
        "      <td> 0</td>\n",
        "      <td> 33645378@N04</td>\n",
        "      <td> 0</td>\n",
        "      <td> *green leaves*</td>\n",
        "    </tr>\n",
        "    <tr>\n",
        "      <th>4</th>\n",
        "      <td> 1</td>\n",
        "      <td>    4</td>\n",
        "      <td> 0</td>\n",
        "      <td> 64387153@N00</td>\n",
        "      <td> 0</td>\n",
        "      <td>     *laikanet*</td>\n",
        "    </tr>\n",
        "  </tbody>\n",
        "</table>\n",
        "</div>"
       ],
       "metadata": {},
       "output_type": "pyout",
       "prompt_number": 13,
       "text": [
        "   iconfarm iconserver  ignored          nsid  rev_ignored        username\n",
        "0         4       3751        0  37451064@N00            0       *Cinnamon\n",
        "1         4       3917        0  77557459@N02            0   *December Sun\n",
        "2         3       2848        0  33564809@N02            0      *eduardoa*\n",
        "3         8       7456        0  33645378@N04            0  *green leaves*\n",
        "4         1          4        0  64387153@N00            0      *laikanet*"
       ]
      }
     ],
     "prompt_number": 13
    },
    {
     "cell_type": "markdown",
     "metadata": {},
     "source": [
      "Now for each user we want to find the location (if it is available).\n",
      "\n",
      "Let's add a location column to our data frame"
     ]
    },
    {
     "cell_type": "code",
     "collapsed": true,
     "input": [
      "dfContacts['location']=''"
     ],
     "language": "python",
     "metadata": {},
     "outputs": [],
     "prompt_number": 14
    },
    {
     "cell_type": "markdown",
     "metadata": {},
     "source": [
      "## II. Extracting the location for each contact\n",
      "Let's read info from any user"
     ]
    },
    {
     "cell_type": "code",
     "collapsed": false,
     "input": [
      "strInfo = flickr.people_getInfo(user_id='92362511@N00')\n",
      "print strInfo[14:-1]"
     ],
     "language": "python",
     "metadata": {},
     "outputs": [
      {
       "output_type": "stream",
       "stream": "stdout",
       "text": [
        "{\"person\":{\"id\":\"92362511@N00\", \"nsid\":\"92362511@N00\", \"ispro\":1, \"iconserver\":\"7376\", \"iconfarm\":8, \"path_alias\":\"tyldurd\", \"username\":{\"_content\":\"Enhanced Reality\"}, \"description\":{\"_content\":\"I mostly post pictures of my wanderings in Berlin and travels.\\n\\nI like taking pictures of lesser known places in the city and small details that most people won't notice. Trying to capture the atmosphere in the moment.\\n\\n<b>New!<\\/b> \\nI also have a photoblog where I post series:\\n<a href=\\\"http:\\/\\/extrealphotography.weebly.com\\/\\\" rel=\\\"nofollow\\\">extrealphotography.weebly.com\\/<\\/a>\\nPlease, feel free to visit and comment!\"}, \"photosurl\":{\"_content\":\"https:\\/\\/www.flickr.com\\/photos\\/tyldurd\\/\"}, \"profileurl\":{\"_content\":\"https:\\/\\/www.flickr.com\\/people\\/tyldurd\\/\"}, \"mobileurl\":{\"_content\":\"https:\\/\\/m.flickr.com\\/photostream.gne?id=2233731\"}, \"photos\":{\"firstdatetaken\":{\"_content\":\"2006-07-18 10:23:00\"}, \"firstdate\":{\"_content\":\"1153923091\"}, \"count\":{\"_content\":971}}}, \"stat\":\"ok\"}\n"
       ]
      }
     ],
     "prompt_number": 128
    },
    {
     "cell_type": "markdown",
     "metadata": {},
     "source": [
      "This user does not have a 'location'. Let's try another one"
     ]
    },
    {
     "cell_type": "code",
     "collapsed": false,
     "input": [
      "strInfo = flickr.people_getInfo(user_id='37451064@N00')\n",
      "print strInfo[14:-1]"
     ],
     "language": "python",
     "metadata": {},
     "outputs": [
      {
       "output_type": "stream",
       "stream": "stdout",
       "text": [
        "{\"person\":{\"id\":\"37451064@N00\", \"nsid\":\"37451064@N00\", \"ispro\":1, \"iconserver\":\"3751\", \"iconfarm\":4, \"path_alias\":\"cloughridge\", \"username\":{\"_content\":\"*Cinnamon\"}, \"realname\":{\"_content\":\"Cindy\"}, \"location\":{\"_content\":\"San Francisco, USA\"}, \"timezone\":{\"label\":\"Pacific Time (US & Canada); Tijuana\", \"offset\":\"-08:00\"}, \"description\":{\"_content\":\"I would randomly take pictures of nothing in particular. How else could you record life as it happens?\\n\\nSimon Von Booy\\n\\n\\nI've accumulated a lot of gear over the years. You can view it <a href=\\\"https:\\/\\/www.flickr.com\\/photos\\/cloughridge\\/5812300380\\/in\\/photostream\\\">here<\\/a>\\n\\nElsewhere:\\n\\n<a href=\\\"http:\\/\\/cindyloughridgephotography.com\\/portfolio.php\\\" rel=\\\"nofollow\\\">portfolio<\\/a>\\n\\n<a href=\\\"http:\\/\\/www.cinnamonroseactions.com\\\" rel=\\\"nofollow\\\">Cinnamonroseactions<\\/a>\\n\\n\\n<a href=\\\"http:\\/\\/www.gettyimages.com\\/Search\\/Search.aspx?assettype=image&amp;family=creative&amp;artist=Cindy Loughridge#\\\" rel=\\\"nofollow\\\">Getty Images<\\/a>\\n\\n<a href=\\\"http:\\/\\/cindyloughridge.tumblr.com\\/\\\" rel=\\\"nofollow\\\">Tumblr<\\/a>    \\n\\nFollow me on <a href=\\\"http:\\/\\/twitter.com\\/\\\" rel=\\\"nofollow\\\">twitter<\\/a>\\n\\nPurchase prints <a href=\\\"http:\\/\\/cindyloughridge.smugmug.com\\/\\\" rel=\\\"nofollow\\\">here<\\/a>\\n\\n\\n\\n\\n\\n\\n\\n\\n\"}, \"photosurl\":{\"_content\":\"https:\\/\\/www.flickr.com\\/photos\\/cloughridge\\/\"}, \"profileurl\":{\"_content\":\"https:\\/\\/www.flickr.com\\/people\\/cloughridge\\/\"}, \"mobileurl\":{\"_content\":\"https:\\/\\/m.flickr.com\\/photostream.gne?id=2502313\"}, \"photos\":{\"firstdatetaken\":{\"_content\":\"2002-08-03 01:17:18\"}, \"firstdate\":{\"_content\":\"1140392914\"}, \"count\":{\"_content\":5103}}}, \"stat\":\"ok\"}\n"
       ]
      }
     ],
     "prompt_number": 129
    },
    {
     "cell_type": "markdown",
     "metadata": {},
     "source": [
      "Again we put this into a data frame"
     ]
    },
    {
     "cell_type": "code",
     "collapsed": false,
     "input": [
      "dfInfo = pd.read_json(strInfo[14:-1])"
     ],
     "language": "python",
     "metadata": {},
     "outputs": [],
     "prompt_number": 130
    },
    {
     "cell_type": "code",
     "collapsed": false,
     "input": [
      "dfInfo"
     ],
     "language": "python",
     "metadata": {},
     "outputs": [
      {
       "html": [
        "<div style=\"max-height:1000px;max-width:1500px;overflow:auto;\">\n",
        "<table border=\"1\" class=\"dataframe\">\n",
        "  <thead>\n",
        "    <tr style=\"text-align: right;\">\n",
        "      <th></th>\n",
        "      <th>person</th>\n",
        "      <th>stat</th>\n",
        "    </tr>\n",
        "  </thead>\n",
        "  <tbody>\n",
        "    <tr>\n",
        "      <th>description</th>\n",
        "      <td> {u'_content': u'I would randomly take pictures...</td>\n",
        "      <td> ok</td>\n",
        "    </tr>\n",
        "    <tr>\n",
        "      <th>iconfarm</th>\n",
        "      <td>                                                 4</td>\n",
        "      <td> ok</td>\n",
        "    </tr>\n",
        "    <tr>\n",
        "      <th>iconserver</th>\n",
        "      <td>                                              3751</td>\n",
        "      <td> ok</td>\n",
        "    </tr>\n",
        "    <tr>\n",
        "      <th>id</th>\n",
        "      <td>                                      37451064@N00</td>\n",
        "      <td> ok</td>\n",
        "    </tr>\n",
        "    <tr>\n",
        "      <th>ispro</th>\n",
        "      <td>                                                 1</td>\n",
        "      <td> ok</td>\n",
        "    </tr>\n",
        "    <tr>\n",
        "      <th>location</th>\n",
        "      <td>              {u'_content': u'San Francisco, USA'}</td>\n",
        "      <td> ok</td>\n",
        "    </tr>\n",
        "    <tr>\n",
        "      <th>mobileurl</th>\n",
        "      <td> {u'_content': u'https://m.flickr.com/photostre...</td>\n",
        "      <td> ok</td>\n",
        "    </tr>\n",
        "    <tr>\n",
        "      <th>nsid</th>\n",
        "      <td>                                      37451064@N00</td>\n",
        "      <td> ok</td>\n",
        "    </tr>\n",
        "    <tr>\n",
        "      <th>path_alias</th>\n",
        "      <td>                                       cloughridge</td>\n",
        "      <td> ok</td>\n",
        "    </tr>\n",
        "    <tr>\n",
        "      <th>photos</th>\n",
        "      <td> {u'count': {u'_content': 5103}, u'firstdatetak...</td>\n",
        "      <td> ok</td>\n",
        "    </tr>\n",
        "    <tr>\n",
        "      <th>photosurl</th>\n",
        "      <td> {u'_content': u'https://www.flickr.com/photos/...</td>\n",
        "      <td> ok</td>\n",
        "    </tr>\n",
        "    <tr>\n",
        "      <th>profileurl</th>\n",
        "      <td> {u'_content': u'https://www.flickr.com/people/...</td>\n",
        "      <td> ok</td>\n",
        "    </tr>\n",
        "    <tr>\n",
        "      <th>realname</th>\n",
        "      <td>                           {u'_content': u'Cindy'}</td>\n",
        "      <td> ok</td>\n",
        "    </tr>\n",
        "    <tr>\n",
        "      <th>timezone</th>\n",
        "      <td> {u'offset': u'-08:00', u'label': u'Pacific Tim...</td>\n",
        "      <td> ok</td>\n",
        "    </tr>\n",
        "    <tr>\n",
        "      <th>username</th>\n",
        "      <td>                       {u'_content': u'*Cinnamon'}</td>\n",
        "      <td> ok</td>\n",
        "    </tr>\n",
        "  </tbody>\n",
        "</table>\n",
        "</div>"
       ],
       "metadata": {},
       "output_type": "pyout",
       "prompt_number": 131,
       "text": [
        "                                                        person stat\n",
        "description  {u'_content': u'I would randomly take pictures...   ok\n",
        "iconfarm                                                     4   ok\n",
        "iconserver                                                3751   ok\n",
        "id                                                37451064@N00   ok\n",
        "ispro                                                        1   ok\n",
        "location                  {u'_content': u'San Francisco, USA'}   ok\n",
        "mobileurl    {u'_content': u'https://m.flickr.com/photostre...   ok\n",
        "nsid                                              37451064@N00   ok\n",
        "path_alias                                         cloughridge   ok\n",
        "photos       {u'count': {u'_content': 5103}, u'firstdatetak...   ok\n",
        "photosurl    {u'_content': u'https://www.flickr.com/photos/...   ok\n",
        "profileurl   {u'_content': u'https://www.flickr.com/people/...   ok\n",
        "realname                               {u'_content': u'Cindy'}   ok\n",
        "timezone     {u'offset': u'-08:00', u'label': u'Pacific Tim...   ok\n",
        "username                           {u'_content': u'*Cinnamon'}   ok"
       ]
      }
     ],
     "prompt_number": 131
    },
    {
     "cell_type": "markdown",
     "metadata": {},
     "source": [
      "Now we know that the index 'location' contains a dict object with the location we need.\n",
      "\n",
      "Then, it is possible to extract the corresponding string (only if the index exists to avoid errors)"
     ]
    },
    {
     "cell_type": "code",
     "collapsed": false,
     "input": [
      "if 'location' in dfInfo.index:\n",
      "    strLoc=dfInfo.ix['location']['person']['_content']"
     ],
     "language": "python",
     "metadata": {},
     "outputs": [],
     "prompt_number": 132
    },
    {
     "cell_type": "code",
     "collapsed": false,
     "input": [
      "str(strLoc)\n"
     ],
     "language": "python",
     "metadata": {},
     "outputs": [
      {
       "metadata": {},
       "output_type": "pyout",
       "prompt_number": 145,
       "text": [
        "'Milan, Italy'"
       ]
      }
     ],
     "prompt_number": 145
    },
    {
     "cell_type": "markdown",
     "metadata": {},
     "source": [
      "Victory!\n",
      "\n",
      "We can do this for every user in our first data frame by looping on the 'nsid' column (might take a while depending on the number of contacts)"
     ]
    },
    {
     "cell_type": "code",
     "collapsed": false,
     "input": [
      "for idx, nsid in enumerate(dfContacts['nsid']):\n",
      "    strInfo = flickr.people_getInfo(user_id=nsid)\n",
      "    dfInfo = pd.read_json(strInfo[14:-1])\n",
      "    if 'location' in dfInfo.index:\n",
      "        strLoc=dfInfo.ix['location']['person']['_content']\n",
      "        dfContacts['location'][idx] = strLoc  "
     ],
     "language": "python",
     "metadata": {},
     "outputs": [],
     "prompt_number": 174
    },
    {
     "cell_type": "code",
     "collapsed": false,
     "input": [
      "dfContacts.tail()"
     ],
     "language": "python",
     "metadata": {},
     "outputs": [
      {
       "html": [
        "<div style=\"max-height:1000px;max-width:1500px;overflow:auto;\">\n",
        "<table border=\"1\" class=\"dataframe\">\n",
        "  <thead>\n",
        "    <tr style=\"text-align: right;\">\n",
        "      <th></th>\n",
        "      <th>iconfarm</th>\n",
        "      <th>iconserver</th>\n",
        "      <th>ignored</th>\n",
        "      <th>nsid</th>\n",
        "      <th>rev_ignored</th>\n",
        "      <th>username</th>\n",
        "      <th>location</th>\n",
        "    </tr>\n",
        "  </thead>\n",
        "  <tbody>\n",
        "    <tr>\n",
        "      <th>725</th>\n",
        "      <td> 9</td>\n",
        "      <td> 8399</td>\n",
        "      <td> 0</td>\n",
        "      <td> 26577094@N04</td>\n",
        "      <td> 0</td>\n",
        "      <td>                    \u25babEbOpix</td>\n",
        "      <td>                      </td>\n",
        "    </tr>\n",
        "    <tr>\n",
        "      <th>726</th>\n",
        "      <td> 4</td>\n",
        "      <td> 3705</td>\n",
        "      <td> 0</td>\n",
        "      <td> 36587311@N08</td>\n",
        "      <td> 0</td>\n",
        "      <td>                \u25baCubaGallery</td>\n",
        "      <td> Auckland, New Zealand</td>\n",
        "    </tr>\n",
        "    <tr>\n",
        "      <th>727</th>\n",
        "      <td> 5</td>\n",
        "      <td> 4077</td>\n",
        "      <td> 0</td>\n",
        "      <td> 52285046@N08</td>\n",
        "      <td> 0</td>\n",
        "      <td> \u25ba\u25baM J Turner Photography \u25c4\u25c4</td>\n",
        "      <td>        United Kingdom</td>\n",
        "    </tr>\n",
        "    <tr>\n",
        "      <th>728</th>\n",
        "      <td> 6</td>\n",
        "      <td> 5557</td>\n",
        "      <td> 0</td>\n",
        "      <td> 62601831@N02</td>\n",
        "      <td> 0</td>\n",
        "      <td>          \u30b7\uff0d\u30af\u30dc\u30f3\u30c8 - Sieg Bond</td>\n",
        "      <td>                      </td>\n",
        "    </tr>\n",
        "    <tr>\n",
        "      <th>729</th>\n",
        "      <td> 0</td>\n",
        "      <td>    0</td>\n",
        "      <td> 0</td>\n",
        "      <td> 99777894@N00</td>\n",
        "      <td> 0</td>\n",
        "      <td>                    \u7c73\u6b7b\u7c73(MSM)</td>\n",
        "      <td>                      </td>\n",
        "    </tr>\n",
        "  </tbody>\n",
        "</table>\n",
        "</div>"
       ],
       "metadata": {},
       "output_type": "pyout",
       "prompt_number": 181,
       "text": [
        "     iconfarm iconserver  ignored          nsid  rev_ignored  \\\n",
        "725         9       8399        0  26577094@N04            0   \n",
        "726         4       3705        0  36587311@N08            0   \n",
        "727         5       4077        0  52285046@N08            0   \n",
        "728         6       5557        0  62601831@N02            0   \n",
        "729         0          0        0  99777894@N00            0   \n",
        "\n",
        "                        username               location  \n",
        "725                     \u25babEbOpix                         \n",
        "726                 \u25baCubaGallery  Auckland, New Zealand  \n",
        "727  \u25ba\u25baM J Turner Photography \u25c4\u25c4         United Kingdom  \n",
        "728           \u30b7\uff0d\u30af\u30dc\u30f3\u30c8 - Sieg Bond                         \n",
        "729                     \u7c73\u6b7b\u7c73(MSM)                         "
       ]
      }
     ],
     "prompt_number": 181
    },
    {
     "cell_type": "markdown",
     "metadata": {},
     "source": [
      "## III. Extracting location coordinates with geopy\n",
      "\n",
      "We add two columns for latitude and longitude. They will be set to NaN if the location is unknown."
     ]
    },
    {
     "cell_type": "code",
     "collapsed": false,
     "input": [
      "dfContacts['lat'] = float('nan')\n",
      "dfContacts['lon'] = float('nan')"
     ],
     "language": "python",
     "metadata": {},
     "outputs": []
    },
    {
     "cell_type": "markdown",
     "metadata": {},
     "source": [
      "We select a geolocator (we chose to use the first ones described in the geopy docs).\n",
      "\n",
      "Then we loop on each index of the data frame to extract the coordinates from the location string."
     ]
    },
    {
     "cell_type": "code",
     "collapsed": false,
     "input": [
      "geolocator = Nominatim()\n",
      "\n",
      "for idx, it in enumerate(dfContacts.location):\n",
      "    try: # Avoids interrupting the loop by time-out errors\n",
      "        # I am not so sure about if this is the correct way to handle it\n",
      "        location = geolocator.geocode(dfContacts.location[idx].encode('utf-8'))\n",
      "    except:\n",
      "       location = None\n",
      "    if location is not None:\n",
      "        dfContacts.lat[idx] = location.latitude\n",
      "        dfContacts.lon[idx] = location.longitude"
     ],
     "language": "python",
     "metadata": {},
     "outputs": [],
     "prompt_number": 20
    },
    {
     "cell_type": "code",
     "collapsed": false,
     "input": [
      "dfContacts.head()"
     ],
     "language": "python",
     "metadata": {},
     "outputs": [
      {
       "html": [
        "<div style=\"max-height:1000px;max-width:1500px;overflow:auto;\">\n",
        "<table border=\"1\" class=\"dataframe\">\n",
        "  <thead>\n",
        "    <tr style=\"text-align: right;\">\n",
        "      <th></th>\n",
        "      <th>Unnamed: 0</th>\n",
        "      <th>iconfarm</th>\n",
        "      <th>iconserver</th>\n",
        "      <th>ignored</th>\n",
        "      <th>nsid</th>\n",
        "      <th>rev_ignored</th>\n",
        "      <th>username</th>\n",
        "      <th>location</th>\n",
        "      <th>lat</th>\n",
        "      <th>lon</th>\n",
        "    </tr>\n",
        "  </thead>\n",
        "  <tbody>\n",
        "    <tr>\n",
        "      <th>0</th>\n",
        "      <td> 0</td>\n",
        "      <td> 4</td>\n",
        "      <td> 3751</td>\n",
        "      <td> 0</td>\n",
        "      <td> 37451064@N00</td>\n",
        "      <td> 0</td>\n",
        "      <td>      *Cinnamon</td>\n",
        "      <td> San Francisco, USA</td>\n",
        "      <td> 37.778960</td>\n",
        "      <td>-122.419199</td>\n",
        "    </tr>\n",
        "    <tr>\n",
        "      <th>1</th>\n",
        "      <td> 1</td>\n",
        "      <td> 4</td>\n",
        "      <td> 3917</td>\n",
        "      <td> 0</td>\n",
        "      <td> 77557459@N02</td>\n",
        "      <td> 0</td>\n",
        "      <td>  *December Sun</td>\n",
        "      <td>            Croatia</td>\n",
        "      <td> 45.564344</td>\n",
        "      <td>  17.011895</td>\n",
        "    </tr>\n",
        "    <tr>\n",
        "      <th>2</th>\n",
        "      <td> 2</td>\n",
        "      <td> 3</td>\n",
        "      <td> 2848</td>\n",
        "      <td> 0</td>\n",
        "      <td> 33564809@N02</td>\n",
        "      <td> 0</td>\n",
        "      <td>     *eduardoa*</td>\n",
        "      <td>       Milan, Italy</td>\n",
        "      <td> 45.466621</td>\n",
        "      <td>   9.190617</td>\n",
        "    </tr>\n",
        "    <tr>\n",
        "      <th>3</th>\n",
        "      <td> 3</td>\n",
        "      <td> 8</td>\n",
        "      <td> 7456</td>\n",
        "      <td> 0</td>\n",
        "      <td> 33645378@N04</td>\n",
        "      <td> 0</td>\n",
        "      <td> *green leaves*</td>\n",
        "      <td>             Canada</td>\n",
        "      <td> 61.066692</td>\n",
        "      <td>-107.991707</td>\n",
        "    </tr>\n",
        "    <tr>\n",
        "      <th>4</th>\n",
        "      <td> 4</td>\n",
        "      <td> 1</td>\n",
        "      <td>    4</td>\n",
        "      <td> 0</td>\n",
        "      <td> 64387153@N00</td>\n",
        "      <td> 0</td>\n",
        "      <td>     *laikanet*</td>\n",
        "      <td>  Helsinki, Finland</td>\n",
        "      <td> 60.171320</td>\n",
        "      <td>  24.941457</td>\n",
        "    </tr>\n",
        "  </tbody>\n",
        "</table>\n",
        "</div>"
       ],
       "metadata": {},
       "output_type": "pyout",
       "prompt_number": 42,
       "text": [
        "   Unnamed: 0  iconfarm  iconserver  ignored          nsid  rev_ignored  \\\n",
        "0           0         4        3751        0  37451064@N00            0   \n",
        "1           1         4        3917        0  77557459@N02            0   \n",
        "2           2         3        2848        0  33564809@N02            0   \n",
        "3           3         8        7456        0  33645378@N04            0   \n",
        "4           4         1           4        0  64387153@N00            0   \n",
        "\n",
        "         username            location        lat         lon  \n",
        "0       *Cinnamon  San Francisco, USA  37.778960 -122.419199  \n",
        "1   *December Sun             Croatia  45.564344   17.011895  \n",
        "2      *eduardoa*        Milan, Italy  45.466621    9.190617  \n",
        "3  *green leaves*              Canada  61.066692 -107.991707  \n",
        "4      *laikanet*   Helsinki, Finland  60.171320   24.941457  "
       ]
      }
     ],
     "prompt_number": 42
    },
    {
     "cell_type": "code",
     "collapsed": false,
     "input": [
      "# Optional: write to a file to avoid re-running everything if your browser crashes.\n",
      "# encoding to utf 8 avoids an error while writing the file\n",
      "# Uncomment the following line to write the data frame to a file\n",
      "#dfContacts.to_csv('myContactInfo.csv', encoding='utf-8')\n",
      "# Uncomment to read it from the file\n",
      "#dfContacts = pd.read_csv('myContactInfo.csv', encoding='utf-8')"
     ],
     "language": "python",
     "metadata": {},
     "outputs": [],
     "prompt_number": 147
    },
    {
     "cell_type": "markdown",
     "metadata": {},
     "source": [
      "## IV. Putting the contacts on a map with folium\n",
      "\n",
      "Folium is a simple tool that allows to map data based on the Leaflet.js framework. The maps are saved into a html file. We can choose custom tiles available at this link:\n",
      "http://leaflet-extras.github.io/leaflet-providers/preview/\n",
      "and display user names and locations in popups that appear when ones click on the marker."
     ]
    },
    {
     "cell_type": "code",
     "collapsed": false,
     "input": [
      "mapContacts = folium.Map(location=[20, -10], zoom_start=2, \n",
      "                         tiles= r'http://{s}.tile.thunderforest.com/landscape/{z}/{x}/{y}.png',\n",
      "                         attr='&copy; <a href=\"http://www.opencyclemap.org\">OpenCycleMap</a>, &copy; <a href=\"http://openstreetmap.org\">OpenStreetMap</a> contributors, <a href=\"http://creativecommons.org/licenses/by-sa/2.0/\">CC-BY-SA</a>')\n"
     ],
     "language": "python",
     "metadata": {},
     "outputs": [],
     "prompt_number": 105
    },
    {
     "cell_type": "code",
     "collapsed": false,
     "input": [
      "for idx in dfContacts.index:\n",
      "    lat = dfContacts.lat[idx]\n",
      "    lon = dfContacts.lon[idx]\n",
      "    \n",
      "    # folium doesn't seem to accept utf-8 strings in the popup\n",
      "    try:\n",
      "        name = str(dfContacts.username[idx].decode())\n",
      "    except:\n",
      "        name = \"unknown\"\n",
      "    try:\n",
      "        loc = str(dfContacts.location[idx].decode())\n",
      "    except:\n",
      "        loc = \"unknown\"\n",
      "    #print name\n",
      "    if not(isnan(lat)) and not(isnan(lon)):\n",
      "        #print dfContacts.location[idx].encode('utf-8')\n",
      "        mapContacts.polygon_marker(location=[lat, lon],\n",
      "                                  radius=4,\n",
      "                                  line_color='#0063db', \n",
      "                                  fill_color='#0063db',\n",
      "                                  popup=name + \" (\" + loc + \")\")\n",
      "mapContacts.create_map('map.html')"
     ],
     "language": "python",
     "metadata": {},
     "outputs": [],
     "prompt_number": 144
    },
    {
     "cell_type": "code",
     "collapsed": false,
     "input": [
      "#HTML(open('map.html').read())"
     ],
     "language": "python",
     "metadata": {},
     "outputs": [],
     "prompt_number": 146
    },
    {
     "cell_type": "markdown",
     "metadata": {},
     "source": [
      "## V. Summary\n",
      "\n",
      "Finally, when you know where is the information to extract, you only need a few steps:\n",
      "\n",
      "### 1) Parsing the contact list with contacts_getPublicList"
     ]
    },
    {
     "cell_type": "code",
     "collapsed": false,
     "input": [
      "strPubList = flickr.contacts_getPublicList(user_id='92362511@N00')\n",
      "dfPubList = pd.read_json(strPubList[14:-1])\n",
      "dfContacts=pd.DataFrame(dfPubList['contacts']['contact'])\n",
      "dfContacts['location']=''"
     ],
     "language": "python",
     "metadata": {},
     "outputs": []
    },
    {
     "cell_type": "markdown",
     "metadata": {},
     "source": [
      "### 2) Extracting the locations with people_getInfo"
     ]
    },
    {
     "cell_type": "code",
     "collapsed": false,
     "input": [
      "for idx, nsid in enumerate(dfContacts['nsid']):\n",
      "    strInfo = flickr.people_getInfo(user_id=nsid)\n",
      "    dfInfo = pd.read_json(strInfo[14:-1])\n",
      "    if 'location' in dfInfo.index:\n",
      "        strLoc=dfInfo.ix['location']['person']['_content']\n",
      "        dfContacts['location'][idx] = strLoc "
     ],
     "language": "python",
     "metadata": {},
     "outputs": []
    },
    {
     "cell_type": "markdown",
     "metadata": {},
     "source": [
      "### 3) Geocoding the locations with geopy"
     ]
    },
    {
     "cell_type": "code",
     "collapsed": false,
     "input": [
      "dfContacts['lat'] = float('nan')\n",
      "dfContacts['lon'] = float('nan')\n",
      "\n",
      "geolocator = Nominatim()\n",
      "\n",
      "for idx, it in enumerate(dfContacts.location):\n",
      "    try: # Avoids interrupting the loop by time-out errors\n",
      "        # I am not so sure about if this is the correct way to handle it\n",
      "        location = geolocator.geocode(dfContacts.location[idx].encode('utf-8'))\n",
      "    except:\n",
      "       location = None\n",
      "    if location is not None:\n",
      "        dfContacts.lat[idx] = location.latitude\n",
      "        dfContacts.lon[idx] = location.longitude"
     ],
     "language": "python",
     "metadata": {},
     "outputs": []
    },
    {
     "cell_type": "markdown",
     "metadata": {},
     "source": [
      "### 4) Creating and populating the map with folium "
     ]
    },
    {
     "cell_type": "code",
     "collapsed": false,
     "input": [
      "mapContacts = folium.Map(location=[20, -10], zoom_start=2, \n",
      "                         tiles= r'http://{s}.tile.thunderforest.com/landscape/{z}/{x}/{y}.png',\n",
      "                         attr='&copy; <a href=\"http://www.opencyclemap.org\">OpenCycleMap</a>, &copy; <a href=\"http://openstreetmap.org\">OpenStreetMap</a> contributors, <a href=\"http://creativecommons.org/licenses/by-sa/2.0/\">CC-BY-SA</a>')\n",
      "\n",
      "for idx in dfContacts.index:\n",
      "    lat = dfContacts.lat[idx]\n",
      "    lon = dfContacts.lon[idx]\n",
      "    \n",
      "    # folium doesn't seem to accept utf-8 strings in the popup\n",
      "    try:\n",
      "        name = str(dfContacts.username[idx].decode())\n",
      "    except:\n",
      "        name = \"unknown\"\n",
      "    try:\n",
      "        loc = str(dfContacts.location[idx].decode())\n",
      "    except:\n",
      "        loc = \"unknown\"\n",
      "    #print name\n",
      "    if not(isnan(lat)) and not(isnan(lon)):\n",
      "        #print dfContacts.location[idx].encode('utf-8')\n",
      "        mapContacts.polygon_marker(location=[lat, lon],\n",
      "                                  radius=4,\n",
      "                                  line_color='#0063db', \n",
      "                                  fill_color='#0063db',\n",
      "                                  popup=name + \" (\" + loc + \")\")\n",
      "mapContacts.create_map('map.html')"
     ],
     "language": "python",
     "metadata": {},
     "outputs": []
    },
    {
     "cell_type": "markdown",
     "metadata": {},
     "source": [
      "### 5) Opening the html map in your favorite browser"
     ]
    },
    {
     "cell_type": "code",
     "collapsed": false,
     "input": [
      "# The end!"
     ],
     "language": "python",
     "metadata": {},
     "outputs": []
    }
   ],
   "metadata": {}
  }
 ]
}