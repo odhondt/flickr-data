{
 "metadata": {
  "name": "",
  "signature": "sha256:537dda578e1c6d152366545371dd7a44c0a6b5887c0de69fb1bc89b0b8844267"
 },
 "nbformat": 3,
 "nbformat_minor": 0,
 "worksheets": [
  {
   "cells": [
    {
     "cell_type": "markdown",
     "metadata": {},
     "source": [
      "# Diving into Flickr data with python\n",
      "\n",
      "This is a work in progress"
     ]
    },
    {
     "cell_type": "code",
     "collapsed": false,
     "input": [
      "import flickrapi\n",
      "import pandas as pd\n",
      "import json"
     ],
     "language": "python",
     "metadata": {},
     "outputs": [],
     "prompt_number": 3
    },
    {
     "cell_type": "markdown",
     "metadata": {},
     "source": [
      "## I. Learning some basics"
     ]
    },
    {
     "cell_type": "markdown",
     "metadata": {},
     "source": [
      "First we declare a flickrapi object with our flickr API key"
     ]
    },
    {
     "cell_type": "code",
     "collapsed": false,
     "input": [
      "api_key = ''\n",
      "flickr = flickrapi.FlickrAPI(api_key, format='json')"
     ],
     "language": "python",
     "metadata": {},
     "outputs": [],
     "prompt_number": 4
    },
    {
     "cell_type": "markdown",
     "metadata": {},
     "source": [
      "Then we retrieve the favs of a selected photo"
     ]
    },
    {
     "cell_type": "code",
     "collapsed": false,
     "input": [
      "fav = flickr.photos_getFavorites(photo_id='14368887810');"
     ],
     "language": "python",
     "metadata": {},
     "outputs": [],
     "prompt_number": 5
    },
    {
     "cell_type": "markdown",
     "metadata": {},
     "source": [
      "By printing the content of the string, we see that some characters have to be removed for having a valid JSON string"
     ]
    },
    {
     "cell_type": "code",
     "collapsed": false,
     "input": [
      "print 'head of fav:   ',fav[:50]\n",
      "print 'tail of fav:    ',fav[-50:],'\\n'\n",
      "# to return a valid json string, just remove 14 first characters and the last one\n",
      "print 'head of fav (valid):   ',fav[14:50]\n",
      "print 'tail of fav (valid):   ',fav[-50:-1]"
     ],
     "language": "python",
     "metadata": {},
     "outputs": [
      {
       "output_type": "stream",
       "stream": "stdout",
       "text": [
        "head of fav:    jsonFlickrApi({\"photo\":{\"person\":[{\"nsid\":\"1208257\n",
        "tailof fav:     s\":12, \"perpage\":10, \"total\":\"120\"}, \"stat\":\"ok\"}) \n",
        "\n",
        "head of fav (valid):    {\"photo\":{\"person\":[{\"nsid\":\"1208257\n",
        "tail of fav (valid):    s\":12, \"perpage\":10, \"total\":\"120\"}, \"stat\":\"ok\"}\n"
       ]
      }
     ],
     "prompt_number": 6
    },
    {
     "cell_type": "markdown",
     "metadata": {},
     "source": [
      "We parse JSON string, basically what it does is transforming the string into a dict"
     ]
    },
    {
     "cell_type": "code",
     "collapsed": false,
     "input": [
      "s_fav = json.loads(fav[14:-1])\n",
      "print str(s_fav)[:200] # printing only the beginning"
     ],
     "language": "python",
     "metadata": {},
     "outputs": [
      {
       "output_type": "stream",
       "stream": "stdout",
       "text": [
        "{u'photo': {u'perpage': 10, u'farm': 3, u'pages': 12, u'id': u'14368887810', u'person': [{u'username': u'Lukasan2014', u'family': 0, u'realname': u'', u'nsid': u'120825773@N05', u'iconserver': u'3908'\n"
       ]
      }
     ],
     "prompt_number": 7
    },
    {
     "cell_type": "markdown",
     "metadata": {},
     "source": [
      "We can see that the content related to favorites is contained in the entry 'person' in the form of a list"
     ]
    },
    {
     "cell_type": "code",
     "collapsed": false,
     "input": [
      "print str(s_fav['photo']['person'])[:200], '\\n' # display the fav list\n",
      "print s_fav['photo']['person'][5], '\\n' # display info about one fav\n",
      "print s_fav['photo']['person'][5]['favedate'], '\\n' # display fav date (UNIX timestamp)"
     ],
     "language": "python",
     "metadata": {},
     "outputs": [
      {
       "output_type": "stream",
       "stream": "stdout",
       "text": [
        "[{u'username': u'Lukasan2014', u'family': 0, u'realname': u'', u'nsid': u'120825773@N05', u'iconserver': u'3908', u'favedate': u'1406519587', u'contact': 0, u'friend': 0, u'iconfarm': 4}, {u'username' \n",
        "\n",
        "{u'username': u'christilou1', u'family': 0, u'realname': u'', u'nsid': u'38030824@N04', u'iconserver': u'4108', u'favedate': u'1406116570', u'contact': 0, u'friend': 0, u'iconfarm': 5} \n",
        "\n",
        "1406116570 \n",
        "\n"
       ]
      }
     ],
     "prompt_number": 8
    },
    {
     "cell_type": "markdown",
     "metadata": {},
     "source": [
      "We can import the information into a pandas data frame"
     ]
    },
    {
     "cell_type": "code",
     "collapsed": false,
     "input": [
      "# read only valid json sub string into data frame\n",
      "df_fav = pd.read_json(json.dumps(s_fav['photo']['person']));"
     ],
     "language": "python",
     "metadata": {},
     "outputs": [],
     "prompt_number": 9
    },
    {
     "cell_type": "markdown",
     "metadata": {},
     "source": [
      "Now we can check we have a data frame that contains only information about favorites"
     ]
    },
    {
     "cell_type": "code",
     "collapsed": false,
     "input": [
      "df_fav"
     ],
     "language": "python",
     "metadata": {},
     "outputs": [
      {
       "html": [
        "<div style=\"max-height:1000px;max-width:1500px;overflow:auto;\">\n",
        "<table border=\"1\" class=\"dataframe\">\n",
        "  <thead>\n",
        "    <tr style=\"text-align: right;\">\n",
        "      <th></th>\n",
        "      <th>contact</th>\n",
        "      <th>family</th>\n",
        "      <th>favedate</th>\n",
        "      <th>friend</th>\n",
        "      <th>iconfarm</th>\n",
        "      <th>iconserver</th>\n",
        "      <th>nsid</th>\n",
        "      <th>realname</th>\n",
        "      <th>username</th>\n",
        "    </tr>\n",
        "  </thead>\n",
        "  <tbody>\n",
        "    <tr>\n",
        "      <th>0</th>\n",
        "      <td> 0</td>\n",
        "      <td> 0</td>\n",
        "      <td> 1406519587</td>\n",
        "      <td> 0</td>\n",
        "      <td> 4</td>\n",
        "      <td> 3908</td>\n",
        "      <td> 120825773@N05</td>\n",
        "      <td>              </td>\n",
        "      <td>                         Lukasan2014</td>\n",
        "    </tr>\n",
        "    <tr>\n",
        "      <th>1</th>\n",
        "      <td> 0</td>\n",
        "      <td> 0</td>\n",
        "      <td> 1406309214</td>\n",
        "      <td> 0</td>\n",
        "      <td> 3</td>\n",
        "      <td> 2927</td>\n",
        "      <td>  91007561@N05</td>\n",
        "      <td>              </td>\n",
        "      <td>            C\u01b0\u1eddng Euro | Photography</td>\n",
        "    </tr>\n",
        "    <tr>\n",
        "      <th>2</th>\n",
        "      <td> 0</td>\n",
        "      <td> 0</td>\n",
        "      <td> 1406293554</td>\n",
        "      <td> 0</td>\n",
        "      <td> 4</td>\n",
        "      <td> 3673</td>\n",
        "      <td> 104486340@N03</td>\n",
        "      <td>      JM Fikko</td>\n",
        "      <td>                            jm.fikko</td>\n",
        "    </tr>\n",
        "    <tr>\n",
        "      <th>3</th>\n",
        "      <td> 0</td>\n",
        "      <td> 0</td>\n",
        "      <td> 1406259611</td>\n",
        "      <td> 0</td>\n",
        "      <td> 3</td>\n",
        "      <td> 2939</td>\n",
        "      <td>  43738607@N07</td>\n",
        "      <td>              </td>\n",
        "      <td>                           .brianday</td>\n",
        "    </tr>\n",
        "    <tr>\n",
        "      <th>4</th>\n",
        "      <td> 0</td>\n",
        "      <td> 0</td>\n",
        "      <td> 1406239666</td>\n",
        "      <td> 0</td>\n",
        "      <td> 4</td>\n",
        "      <td> 3679</td>\n",
        "      <td>  60142567@N05</td>\n",
        "      <td>              </td>\n",
        "      <td>                           Paxtorino</td>\n",
        "    </tr>\n",
        "    <tr>\n",
        "      <th>5</th>\n",
        "      <td> 0</td>\n",
        "      <td> 0</td>\n",
        "      <td> 1406116570</td>\n",
        "      <td> 0</td>\n",
        "      <td> 5</td>\n",
        "      <td> 4108</td>\n",
        "      <td>  38030824@N04</td>\n",
        "      <td>              </td>\n",
        "      <td>                         christilou1</td>\n",
        "    </tr>\n",
        "    <tr>\n",
        "      <th>6</th>\n",
        "      <td> 0</td>\n",
        "      <td> 0</td>\n",
        "      <td> 1405960894</td>\n",
        "      <td> 0</td>\n",
        "      <td> 3</td>\n",
        "      <td> 2907</td>\n",
        "      <td>  96274428@N05</td>\n",
        "      <td>   Fabio Luzzi</td>\n",
        "      <td>                              faio33</td>\n",
        "    </tr>\n",
        "    <tr>\n",
        "      <th>7</th>\n",
        "      <td> 0</td>\n",
        "      <td> 0</td>\n",
        "      <td> 1405825932</td>\n",
        "      <td> 0</td>\n",
        "      <td> 9</td>\n",
        "      <td> 8060</td>\n",
        "      <td>  43295905@N05</td>\n",
        "      <td> Marvett Smith</td>\n",
        "      <td> Marvett Smith (Savoring the Simple)</td>\n",
        "    </tr>\n",
        "    <tr>\n",
        "      <th>8</th>\n",
        "      <td> 0</td>\n",
        "      <td> 0</td>\n",
        "      <td> 1405535709</td>\n",
        "      <td> 0</td>\n",
        "      <td> 3</td>\n",
        "      <td> 2888</td>\n",
        "      <td> 117312075@N06</td>\n",
        "      <td>   Abhijit Roy</td>\n",
        "      <td>                               c4roy</td>\n",
        "    </tr>\n",
        "    <tr>\n",
        "      <th>9</th>\n",
        "      <td> 0</td>\n",
        "      <td> 0</td>\n",
        "      <td> 1405488932</td>\n",
        "      <td> 0</td>\n",
        "      <td> 4</td>\n",
        "      <td> 3794</td>\n",
        "      <td>  28465812@N07</td>\n",
        "      <td>              </td>\n",
        "      <td>                  Monica &amp; Cebolinha</td>\n",
        "    </tr>\n",
        "  </tbody>\n",
        "</table>\n",
        "</div>"
       ],
       "metadata": {},
       "output_type": "pyout",
       "prompt_number": 10,
       "text": [
        "   contact  family    favedate  friend  iconfarm  iconserver           nsid  \\\n",
        "0        0       0  1406519587       0         4        3908  120825773@N05   \n",
        "1        0       0  1406309214       0         3        2927   91007561@N05   \n",
        "2        0       0  1406293554       0         4        3673  104486340@N03   \n",
        "3        0       0  1406259611       0         3        2939   43738607@N07   \n",
        "4        0       0  1406239666       0         4        3679   60142567@N05   \n",
        "5        0       0  1406116570       0         5        4108   38030824@N04   \n",
        "6        0       0  1405960894       0         3        2907   96274428@N05   \n",
        "7        0       0  1405825932       0         9        8060   43295905@N05   \n",
        "8        0       0  1405535709       0         3        2888  117312075@N06   \n",
        "9        0       0  1405488932       0         4        3794   28465812@N07   \n",
        "\n",
        "        realname                             username  \n",
        "0                                         Lukasan2014  \n",
        "1                            C\u01b0\u1eddng Euro | Photography  \n",
        "2       JM Fikko                             jm.fikko  \n",
        "3                                           .brianday  \n",
        "4                                           Paxtorino  \n",
        "5                                         christilou1  \n",
        "6    Fabio Luzzi                               faio33  \n",
        "7  Marvett Smith  Marvett Smith (Savoring the Simple)  \n",
        "8    Abhijit Roy                                c4roy  \n",
        "9                                  Monica & Cebolinha  "
       ]
      }
     ],
     "prompt_number": 10
    },
    {
     "cell_type": "markdown",
     "metadata": {},
     "source": [
      "Next we can view the dates as a time series"
     ]
    },
    {
     "cell_type": "code",
     "collapsed": false,
     "input": [
      "df_fav['favedate']"
     ],
     "language": "python",
     "metadata": {},
     "outputs": [
      {
       "metadata": {},
       "output_type": "pyout",
       "prompt_number": 11,
       "text": [
        "0    1406519587\n",
        "1    1406309214\n",
        "2    1406293554\n",
        "3    1406259611\n",
        "4    1406239666\n",
        "5    1406116570\n",
        "6    1405960894\n",
        "7    1405825932\n",
        "8    1405535709\n",
        "9    1405488932\n",
        "Name: favedate, dtype: int64"
       ]
      }
     ],
     "prompt_number": 11
    },
    {
     "cell_type": "markdown",
     "metadata": {},
     "source": [
      "Then we want to convert the dates into a more readable format.\n",
      "\n",
      "For this we use the `to_datetime` function and specify that the UNIX timestamp unit is second (default is nanosecond)\n",
      "\n",
      "Additionally we may want to create a new data frame that only contains our date information."
     ]
    },
    {
     "cell_type": "code",
     "collapsed": false,
     "input": [
      "df2 = pd.DataFrame(pd.to_datetime(df_fav['favedate'], unit='s'))"
     ],
     "language": "python",
     "metadata": {},
     "outputs": [],
     "prompt_number": 12
    },
    {
     "cell_type": "markdown",
     "metadata": {},
     "source": [
      "If we are interested in the day of the week information, we can create a `DateTimeIndex`object from which we extract the `weekday` and create a new column of the data frame with such information"
     ]
    },
    {
     "cell_type": "code",
     "collapsed": false,
     "input": [
      "df2['weekday'] = pd.DatetimeIndex(df2['favedate']).weekday"
     ],
     "language": "python",
     "metadata": {},
     "outputs": [],
     "prompt_number": 13
    },
    {
     "cell_type": "code",
     "collapsed": false,
     "input": [
      "df2"
     ],
     "language": "python",
     "metadata": {},
     "outputs": [
      {
       "html": [
        "<div style=\"max-height:1000px;max-width:1500px;overflow:auto;\">\n",
        "<table border=\"1\" class=\"dataframe\">\n",
        "  <thead>\n",
        "    <tr style=\"text-align: right;\">\n",
        "      <th></th>\n",
        "      <th>favedate</th>\n",
        "      <th>weekday</th>\n",
        "    </tr>\n",
        "  </thead>\n",
        "  <tbody>\n",
        "    <tr>\n",
        "      <th>0</th>\n",
        "      <td>2014-07-28 03:53:07</td>\n",
        "      <td> 0</td>\n",
        "    </tr>\n",
        "    <tr>\n",
        "      <th>1</th>\n",
        "      <td>2014-07-25 17:26:54</td>\n",
        "      <td> 4</td>\n",
        "    </tr>\n",
        "    <tr>\n",
        "      <th>2</th>\n",
        "      <td>2014-07-25 13:05:54</td>\n",
        "      <td> 4</td>\n",
        "    </tr>\n",
        "    <tr>\n",
        "      <th>3</th>\n",
        "      <td>2014-07-25 03:40:11</td>\n",
        "      <td> 4</td>\n",
        "    </tr>\n",
        "    <tr>\n",
        "      <th>4</th>\n",
        "      <td>2014-07-24 22:07:46</td>\n",
        "      <td> 3</td>\n",
        "    </tr>\n",
        "    <tr>\n",
        "      <th>5</th>\n",
        "      <td>2014-07-23 11:56:10</td>\n",
        "      <td> 2</td>\n",
        "    </tr>\n",
        "    <tr>\n",
        "      <th>6</th>\n",
        "      <td>2014-07-21 16:41:34</td>\n",
        "      <td> 0</td>\n",
        "    </tr>\n",
        "    <tr>\n",
        "      <th>7</th>\n",
        "      <td>2014-07-20 03:12:12</td>\n",
        "      <td> 6</td>\n",
        "    </tr>\n",
        "    <tr>\n",
        "      <th>8</th>\n",
        "      <td>2014-07-16 18:35:09</td>\n",
        "      <td> 2</td>\n",
        "    </tr>\n",
        "    <tr>\n",
        "      <th>9</th>\n",
        "      <td>2014-07-16 05:35:32</td>\n",
        "      <td> 2</td>\n",
        "    </tr>\n",
        "  </tbody>\n",
        "</table>\n",
        "</div>"
       ],
       "metadata": {},
       "output_type": "pyout",
       "prompt_number": 14,
       "text": [
        "             favedate  weekday\n",
        "0 2014-07-28 03:53:07        0\n",
        "1 2014-07-25 17:26:54        4\n",
        "2 2014-07-25 13:05:54        4\n",
        "3 2014-07-25 03:40:11        4\n",
        "4 2014-07-24 22:07:46        3\n",
        "5 2014-07-23 11:56:10        2\n",
        "6 2014-07-21 16:41:34        0\n",
        "7 2014-07-20 03:12:12        6\n",
        "8 2014-07-16 18:35:09        2\n",
        "9 2014-07-16 05:35:32        2"
       ]
      }
     ],
     "prompt_number": 14
    },
    {
     "cell_type": "markdown",
     "metadata": {},
     "source": [
      "OK, so now we know those basic tools, we can start to visualize some stuff.\n",
      "\n",
      "Let's see if we can first visualize the number of favorites as a function of the time after posting a picture."
     ]
    },
    {
     "cell_type": "markdown",
     "metadata": {},
     "source": [
      "## II. Starting to explore the data\n",
      "\n",
      "Here we chose the photo that has been ranked as first on the explore page and we try to see the evolution of the number of favorites with time."
     ]
    },
    {
     "cell_type": "code",
     "collapsed": false,
     "input": [
      "# picture that is 1st on explore page (date Jul 28th 2014)\n",
      "pp = 50;\n",
      "str_tmp = flickr.photos_getFavorites(photo_id='14777486333', per_page=pp);\n",
      "json_tmp = json.loads(str_tmp[14:-1])\n",
      "df_tmp = pd.read_json(json.dumps(json_tmp['photo']['person']));\n",
      "df_fav = pd.DataFrame(pd.to_datetime(df_tmp['favedate'], unit='s'))\n",
      "num_p = json_tmp['photo']['pages']"
     ],
     "language": "python",
     "metadata": {
      "code_folding": []
     },
     "outputs": []
    },
    {
     "cell_type": "code",
     "collapsed": false,
     "input": [
      "str_tmp = flickr.photos_getInfo(photo_id='14777486333');\n",
      "tt = str(json.loads(str_tmp[14:-1])['photo']['dates']['posted'])\n",
      "posted = pd.to_datetime(tt, unit='s')\n",
      "print tt, posted"
     ],
     "language": "python",
     "metadata": {},
     "outputs": [
      {
       "output_type": "stream",
       "stream": "stdout",
       "text": [
        "1406472521 1406472521\n"
       ]
      }
     ],
     "prompt_number": 48
    },
    {
     "cell_type": "code",
     "collapsed": true,
     "input": [
      "for i in arange(2, num_p):\n",
      "    str_tmp = \\\n",
      "    flickr.photos_getFavorites(photo_id='14777486333', page=i, per_page=pp);\n",
      "\n",
      "    json_tmp = json.loads(str_tmp[14:-1]);\n",
      "    df_tmp = pd.read_json(json.dumps(json_tmp['photo']['person']));\n",
      "    df_fav = df_fav.append(pd.DataFrame(pd.to_datetime(df_tmp['favedate'],\\\n",
      "                                                       unit='s')), ignore_index=True)\n",
      "#print \"data frame\\n\", df_fav"
     ],
     "language": "python",
     "metadata": {},
     "outputs": [
      {
       "output_type": "stream",
       "stream": "stdout",
       "text": [
        "data frame\n",
        "               favedate\n",
        "0   2014-07-30 02:42:01\n",
        "1   2014-07-29 23:39:06\n",
        "2   2014-07-29 23:37:14\n",
        "3   2014-07-29 23:19:11\n",
        "4   2014-07-29 20:46:12\n",
        "5   2014-07-29 20:02:46\n",
        "6   2014-07-29 20:00:30\n",
        "7   2014-07-29 18:49:27\n",
        "8   2014-07-29 17:17:16\n",
        "9   2014-07-29 15:56:43\n",
        "10  2014-07-29 15:52:43\n",
        "11  2014-07-29 13:31:47\n",
        "12  2014-07-29 12:47:55\n",
        "13  2014-07-29 12:07:40\n",
        "14  2014-07-29 12:05:13\n",
        "15  2014-07-29 11:03:38\n",
        "16  2014-07-29 11:00:06\n",
        "17  2014-07-29 10:30:29\n",
        "18  2014-07-29 10:08:16\n",
        "19  2014-07-29 09:24:40\n",
        "20  2014-07-29 07:17:53\n",
        "21  2014-07-29 07:01:00\n",
        "22  2014-07-29 06:53:40\n",
        "23  2014-07-29 06:01:14\n",
        "24  2014-07-29 05:49:02\n",
        "25  2014-07-29 05:17:21\n",
        "26  2014-07-29 04:59:41\n",
        "27  2014-07-29 03:53:39\n",
        "28  2014-07-29 03:53:29\n",
        "29  2014-07-29 03:53:12\n",
        "..                  ...\n",
        "720 2014-07-28 07:50:43\n",
        "721 2014-07-28 07:48:59\n",
        "722 2014-07-28 07:36:56\n",
        "723 2014-07-28 07:36:19\n",
        "724 2014-07-28 07:35:02\n",
        "725 2014-07-28 07:34:23\n",
        "726 2014-07-28 07:28:21\n",
        "727 2014-07-28 07:26:07\n",
        "728 2014-07-28 07:24:54\n",
        "729 2014-07-28 07:23:05\n",
        "730 2014-07-28 07:20:22\n",
        "731 2014-07-28 07:19:30\n",
        "732 2014-07-28 06:55:39\n",
        "733 2014-07-28 06:54:31\n",
        "734 2014-07-28 06:48:45\n",
        "735 2014-07-28 06:37:53\n",
        "736 2014-07-28 06:29:20\n",
        "737 2014-07-28 06:24:04\n",
        "738 2014-07-28 06:18:10\n",
        "739 2014-07-28 06:12:09\n",
        "740 2014-07-28 05:59:18\n",
        "741 2014-07-28 05:51:55\n",
        "742 2014-07-28 05:48:29\n",
        "743 2014-07-28 05:35:38\n",
        "744 2014-07-28 05:19:37\n",
        "745 2014-07-28 05:17:44\n",
        "746 2014-07-28 05:11:26\n",
        "747 2014-07-28 05:04:41\n",
        "748 2014-07-28 05:01:02\n",
        "749 2014-07-28 04:52:13\n",
        "\n",
        "[750 rows x 1 columns]\n"
       ]
      }
     ],
     "prompt_number": 12
    },
    {
     "cell_type": "code",
     "collapsed": false,
     "input": [
      "df_fav.head(n=15)-posted"
     ],
     "language": "python",
     "metadata": {},
     "outputs": [
      {
       "ename": "AttributeError",
       "evalue": "'unicode' object has no attribute 'view'",
       "output_type": "pyerr",
       "traceback": [
        "\u001b[1;31m---------------------------------------------------------------------------\u001b[0m\n\u001b[1;31mAttributeError\u001b[0m                            Traceback (most recent call last)",
        "\u001b[1;32m<ipython-input-36-faca10b794b2>\u001b[0m in \u001b[0;36m<module>\u001b[1;34m()\u001b[0m\n\u001b[1;32m----> 1\u001b[1;33m \u001b[0mdf_fav\u001b[0m\u001b[1;33m.\u001b[0m\u001b[0mhead\u001b[0m\u001b[1;33m(\u001b[0m\u001b[0mn\u001b[0m\u001b[1;33m=\u001b[0m\u001b[1;36m15\u001b[0m\u001b[1;33m)\u001b[0m\u001b[1;33m-\u001b[0m\u001b[0mposted\u001b[0m\u001b[1;33m\u001b[0m\u001b[0m\n\u001b[0m",
        "\u001b[1;32m/home/olivier/anaconda/lib/python2.7/site-packages/pandas/core/ops.pyc\u001b[0m in \u001b[0;36mf\u001b[1;34m(self, other, axis, level, fill_value)\u001b[0m\n\u001b[0;32m    793\u001b[0m                                  (other.shape, ))\n\u001b[0;32m    794\u001b[0m         \u001b[1;32melse\u001b[0m\u001b[1;33m:\u001b[0m\u001b[1;33m\u001b[0m\u001b[0m\n\u001b[1;32m--> 795\u001b[1;33m             \u001b[1;32mreturn\u001b[0m \u001b[0mself\u001b[0m\u001b[1;33m.\u001b[0m\u001b[0m_combine_const\u001b[0m\u001b[1;33m(\u001b[0m\u001b[0mother\u001b[0m\u001b[1;33m,\u001b[0m \u001b[0mna_op\u001b[0m\u001b[1;33m)\u001b[0m\u001b[1;33m\u001b[0m\u001b[0m\n\u001b[0m\u001b[0;32m    796\u001b[0m \u001b[1;33m\u001b[0m\u001b[0m\n\u001b[0;32m    797\u001b[0m     \u001b[0mf\u001b[0m\u001b[1;33m.\u001b[0m\u001b[0m__name__\u001b[0m \u001b[1;33m=\u001b[0m \u001b[0mname\u001b[0m\u001b[1;33m\u001b[0m\u001b[0m\n",
        "\u001b[1;32m/home/olivier/anaconda/lib/python2.7/site-packages/pandas/core/frame.pyc\u001b[0m in \u001b[0;36m_combine_const\u001b[1;34m(self, other, func, raise_on_error)\u001b[0m\n\u001b[0;32m   2876\u001b[0m             \u001b[1;32mreturn\u001b[0m \u001b[0mself\u001b[0m\u001b[1;33m\u001b[0m\u001b[0m\n\u001b[0;32m   2877\u001b[0m \u001b[1;33m\u001b[0m\u001b[0m\n\u001b[1;32m-> 2878\u001b[1;33m         \u001b[0mnew_data\u001b[0m \u001b[1;33m=\u001b[0m \u001b[0mself\u001b[0m\u001b[1;33m.\u001b[0m\u001b[0m_data\u001b[0m\u001b[1;33m.\u001b[0m\u001b[0meval\u001b[0m\u001b[1;33m(\u001b[0m\u001b[0mfunc\u001b[0m\u001b[1;33m=\u001b[0m\u001b[0mfunc\u001b[0m\u001b[1;33m,\u001b[0m \u001b[0mother\u001b[0m\u001b[1;33m=\u001b[0m\u001b[0mother\u001b[0m\u001b[1;33m,\u001b[0m \u001b[0mraise_on_error\u001b[0m\u001b[1;33m=\u001b[0m\u001b[0mraise_on_error\u001b[0m\u001b[1;33m)\u001b[0m\u001b[1;33m\u001b[0m\u001b[0m\n\u001b[0m\u001b[0;32m   2879\u001b[0m         \u001b[1;32mreturn\u001b[0m \u001b[0mself\u001b[0m\u001b[1;33m.\u001b[0m\u001b[0m_constructor\u001b[0m\u001b[1;33m(\u001b[0m\u001b[0mnew_data\u001b[0m\u001b[1;33m)\u001b[0m\u001b[1;33m\u001b[0m\u001b[0m\n\u001b[0;32m   2880\u001b[0m \u001b[1;33m\u001b[0m\u001b[0m\n",
        "\u001b[1;32m/home/olivier/anaconda/lib/python2.7/site-packages/pandas/core/internals.pyc\u001b[0m in \u001b[0;36meval\u001b[1;34m(self, **kwargs)\u001b[0m\n\u001b[0;32m   2183\u001b[0m \u001b[1;33m\u001b[0m\u001b[0m\n\u001b[0;32m   2184\u001b[0m     \u001b[1;32mdef\u001b[0m \u001b[0meval\u001b[0m\u001b[1;33m(\u001b[0m\u001b[0mself\u001b[0m\u001b[1;33m,\u001b[0m \u001b[1;33m**\u001b[0m\u001b[0mkwargs\u001b[0m\u001b[1;33m)\u001b[0m\u001b[1;33m:\u001b[0m\u001b[1;33m\u001b[0m\u001b[0m\n\u001b[1;32m-> 2185\u001b[1;33m         \u001b[1;32mreturn\u001b[0m \u001b[0mself\u001b[0m\u001b[1;33m.\u001b[0m\u001b[0mapply\u001b[0m\u001b[1;33m(\u001b[0m\u001b[1;34m'eval'\u001b[0m\u001b[1;33m,\u001b[0m \u001b[1;33m**\u001b[0m\u001b[0mkwargs\u001b[0m\u001b[1;33m)\u001b[0m\u001b[1;33m\u001b[0m\u001b[0m\n\u001b[0m\u001b[0;32m   2186\u001b[0m \u001b[1;33m\u001b[0m\u001b[0m\n\u001b[0;32m   2187\u001b[0m     \u001b[1;32mdef\u001b[0m \u001b[0msetitem\u001b[0m\u001b[1;33m(\u001b[0m\u001b[0mself\u001b[0m\u001b[1;33m,\u001b[0m \u001b[1;33m**\u001b[0m\u001b[0mkwargs\u001b[0m\u001b[1;33m)\u001b[0m\u001b[1;33m:\u001b[0m\u001b[1;33m\u001b[0m\u001b[0m\n",
        "\u001b[1;32m/home/olivier/anaconda/lib/python2.7/site-packages/pandas/core/internals.pyc\u001b[0m in \u001b[0;36mapply\u001b[1;34m(self, f, axes, filter, do_integrity_check, **kwargs)\u001b[0m\n\u001b[0;32m   2162\u001b[0m                                                  copy=align_copy)\n\u001b[0;32m   2163\u001b[0m \u001b[1;33m\u001b[0m\u001b[0m\n\u001b[1;32m-> 2164\u001b[1;33m             \u001b[0mapplied\u001b[0m \u001b[1;33m=\u001b[0m \u001b[0mgetattr\u001b[0m\u001b[1;33m(\u001b[0m\u001b[0mb\u001b[0m\u001b[1;33m,\u001b[0m \u001b[0mf\u001b[0m\u001b[1;33m)\u001b[0m\u001b[1;33m(\u001b[0m\u001b[1;33m**\u001b[0m\u001b[0mkwargs\u001b[0m\u001b[1;33m)\u001b[0m\u001b[1;33m\u001b[0m\u001b[0m\n\u001b[0m\u001b[0;32m   2165\u001b[0m \u001b[1;33m\u001b[0m\u001b[0m\n\u001b[0;32m   2166\u001b[0m             \u001b[1;32mif\u001b[0m \u001b[0misinstance\u001b[0m\u001b[1;33m(\u001b[0m\u001b[0mapplied\u001b[0m\u001b[1;33m,\u001b[0m \u001b[0mlist\u001b[0m\u001b[1;33m)\u001b[0m\u001b[1;33m:\u001b[0m\u001b[1;33m\u001b[0m\u001b[0m\n",
        "\u001b[1;32m/home/olivier/anaconda/lib/python2.7/site-packages/pandas/core/internals.pyc\u001b[0m in \u001b[0;36meval\u001b[1;34m(self, func, other, raise_on_error, try_cast)\u001b[0m\n\u001b[0;32m    842\u001b[0m \u001b[1;33m\u001b[0m\u001b[0m\n\u001b[0;32m    843\u001b[0m         \u001b[1;31m# coerce/transpose the args if needed\u001b[0m\u001b[1;33m\u001b[0m\u001b[1;33m\u001b[0m\u001b[0m\n\u001b[1;32m--> 844\u001b[1;33m         \u001b[0mvalues\u001b[0m\u001b[1;33m,\u001b[0m \u001b[0mother\u001b[0m \u001b[1;33m=\u001b[0m \u001b[0mself\u001b[0m\u001b[1;33m.\u001b[0m\u001b[0m_try_coerce_args\u001b[0m\u001b[1;33m(\u001b[0m\u001b[0mtransf\u001b[0m\u001b[1;33m(\u001b[0m\u001b[0mvalues\u001b[0m\u001b[1;33m)\u001b[0m\u001b[1;33m,\u001b[0m \u001b[0mother\u001b[0m\u001b[1;33m)\u001b[0m\u001b[1;33m\u001b[0m\u001b[0m\n\u001b[0m\u001b[0;32m    845\u001b[0m \u001b[1;33m\u001b[0m\u001b[0m\n\u001b[0;32m    846\u001b[0m         \u001b[1;31m# get the result, may need to transpose the other\u001b[0m\u001b[1;33m\u001b[0m\u001b[1;33m\u001b[0m\u001b[0m\n",
        "\u001b[1;32m/home/olivier/anaconda/lib/python2.7/site-packages/pandas/core/internals.pyc\u001b[0m in \u001b[0;36m_try_coerce_args\u001b[1;34m(self, values, other)\u001b[0m\n\u001b[0;32m   1476\u001b[0m             \u001b[0mother\u001b[0m \u001b[1;33m=\u001b[0m \u001b[0mlib\u001b[0m\u001b[1;33m.\u001b[0m\u001b[0mTimestamp\u001b[0m\u001b[1;33m(\u001b[0m\u001b[0mother\u001b[0m\u001b[1;33m)\u001b[0m\u001b[1;33m.\u001b[0m\u001b[0masm8\u001b[0m\u001b[1;33m.\u001b[0m\u001b[0mview\u001b[0m\u001b[1;33m(\u001b[0m\u001b[1;34m'i8'\u001b[0m\u001b[1;33m)\u001b[0m\u001b[1;33m\u001b[0m\u001b[0m\n\u001b[0;32m   1477\u001b[0m         \u001b[1;32melse\u001b[0m\u001b[1;33m:\u001b[0m\u001b[1;33m\u001b[0m\u001b[0m\n\u001b[1;32m-> 1478\u001b[1;33m             \u001b[0mother\u001b[0m \u001b[1;33m=\u001b[0m \u001b[0mother\u001b[0m\u001b[1;33m.\u001b[0m\u001b[0mview\u001b[0m\u001b[1;33m(\u001b[0m\u001b[1;34m'i8'\u001b[0m\u001b[1;33m)\u001b[0m\u001b[1;33m\u001b[0m\u001b[0m\n\u001b[0m\u001b[0;32m   1479\u001b[0m \u001b[1;33m\u001b[0m\u001b[0m\n\u001b[0;32m   1480\u001b[0m         \u001b[1;32mreturn\u001b[0m \u001b[0mvalues\u001b[0m\u001b[1;33m,\u001b[0m \u001b[0mother\u001b[0m\u001b[1;33m\u001b[0m\u001b[0m\n",
        "\u001b[1;31mAttributeError\u001b[0m: 'unicode' object has no attribute 'view'"
       ]
      }
     ],
     "prompt_number": 36
    },
    {
     "cell_type": "code",
     "collapsed": false,
     "input": [
      "pd.DataFrame.head?"
     ],
     "language": "python",
     "metadata": {},
     "outputs": [],
     "prompt_number": 17
    },
    {
     "cell_type": "code",
     "collapsed": false,
     "input": [],
     "language": "python",
     "metadata": {},
     "outputs": []
    }
   ],
   "metadata": {}
  }
 ]
}