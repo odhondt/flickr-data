{
 "metadata": {
  "name": "",
  "signature": "sha256:537dda578e1c6d152366545371dd7a44c0a6b5887c0de69fb1bc89b0b8844267"
 },
 "nbformat": 3,
 "nbformat_minor": 0,
 "worksheets": [
  {
   "cells": [
    {
     "cell_type": "markdown",
     "metadata": {},
     "source": [
      "# Diving into Flickr data with python\n",
      "\n",
      "This is a work in progress"
     ]
    },
    {
     "cell_type": "code",
     "collapsed": false,
     "input": [
      "%matplotlib inline\n",
      "import flickrapi\n",
      "import pandas as pd\n",
      "import json"
     ],
     "language": "python",
     "metadata": {},
     "outputs": [],
     "prompt_number": 11
    },
    {
     "cell_type": "markdown",
     "metadata": {},
     "source": [
      "**Prerequisite:**\n",
      "\n",
      "In order to understand this tutorial you need knowledge about a few things:\n",
      "- python and numpy basic knowledge\n",
      "- what is the json format\n",
      "- what is an api\n",
      "- some basic knowledge about pandas. The official doc has a '10 minutes to pandas' section that should do. \n",
      "\n",
      "Happy googling! :)"
     ]
    },
    {
     "cell_type": "markdown",
     "metadata": {},
     "source": [
      "## I. Learning some basic operations"
     ]
    },
    {
     "cell_type": "markdown",
     "metadata": {},
     "source": [
      "First we declare a flickrapi object with our flickr API key"
     ]
    },
    {
     "cell_type": "code",
     "collapsed": false,
     "input": [
      "api_key = ''\n",
      "flickr = flickrapi.FlickrAPI(api_key, format='json')"
     ],
     "language": "python",
     "metadata": {},
     "outputs": [],
     "prompt_number": 12
    },
    {
     "cell_type": "markdown",
     "metadata": {},
     "source": [
      "Then we retrieve the faves (favorites) of a selected photo.\n",
      "\n",
      "Here we choose to use the JSON format because it is readable by pandas."
     ]
    },
    {
     "cell_type": "code",
     "collapsed": false,
     "input": [
      "fav = flickr.photos_getFavorites(photo_id='14368887810');"
     ],
     "language": "python",
     "metadata": {},
     "outputs": [],
     "prompt_number": 5
    },
    {
     "cell_type": "markdown",
     "metadata": {},
     "source": [
      "By printing the content of the string, we see that some characters have to be removed for having a valid JSON string"
     ]
    },
    {
     "cell_type": "code",
     "collapsed": false,
     "input": [
      "print 'head of fav:   ',fav[:50]\n",
      "print 'tail of fav:    ',fav[-50:],'\\n'\n",
      "# to return a valid json string, just remove 14 first characters and the last one\n",
      "print 'head of fav (valid):   ',fav[14:50]\n",
      "print 'tail of fav (valid):   ',fav[-50:-1]"
     ],
     "language": "python",
     "metadata": {},
     "outputs": [
      {
       "output_type": "stream",
       "stream": "stdout",
       "text": [
        "head of fav:    jsonFlickrApi({\"photo\":{\"person\":[{\"nsid\":\"1208257\n",
        "tailof fav:     s\":12, \"perpage\":10, \"total\":\"120\"}, \"stat\":\"ok\"}) \n",
        "\n",
        "head of fav (valid):    {\"photo\":{\"person\":[{\"nsid\":\"1208257\n",
        "tail of fav (valid):    s\":12, \"perpage\":10, \"total\":\"120\"}, \"stat\":\"ok\"}\n"
       ]
      }
     ],
     "prompt_number": 6
    },
    {
     "cell_type": "markdown",
     "metadata": {},
     "source": [
      "We parse JSON string, basically what it does is transforming the string into a dict"
     ]
    },
    {
     "cell_type": "code",
     "collapsed": false,
     "input": [
      "s_fav = json.loads(fav[14:-1])\n",
      "print str(s_fav)[:200] # printing only the beginning"
     ],
     "language": "python",
     "metadata": {},
     "outputs": [
      {
       "output_type": "stream",
       "stream": "stdout",
       "text": [
        "{u'photo': {u'perpage': 10, u'farm': 3, u'pages': 12, u'id': u'14368887810', u'person': [{u'username': u'Lukasan2014', u'family': 0, u'realname': u'', u'nsid': u'120825773@N05', u'iconserver': u'3908'\n"
       ]
      }
     ],
     "prompt_number": 7
    },
    {
     "cell_type": "markdown",
     "metadata": {},
     "source": [
      "We can see that the content related to favorites is contained in the entry 'person' in the form of a list"
     ]
    },
    {
     "cell_type": "code",
     "collapsed": false,
     "input": [
      "print str(s_fav['photo']['person'])[:200], '\\n' # display the fav list\n",
      "print s_fav['photo']['person'][5], '\\n' # display info about one fav\n",
      "print s_fav['photo']['person'][5]['favedate'], '\\n' # display fav date (UNIX timestamp)"
     ],
     "language": "python",
     "metadata": {},
     "outputs": [
      {
       "output_type": "stream",
       "stream": "stdout",
       "text": [
        "[{u'username': u'Lukasan2014', u'family': 0, u'realname': u'', u'nsid': u'120825773@N05', u'iconserver': u'3908', u'favedate': u'1406519587', u'contact': 0, u'friend': 0, u'iconfarm': 4}, {u'username' \n",
        "\n",
        "{u'username': u'christilou1', u'family': 0, u'realname': u'', u'nsid': u'38030824@N04', u'iconserver': u'4108', u'favedate': u'1406116570', u'contact': 0, u'friend': 0, u'iconfarm': 5} \n",
        "\n",
        "1406116570 \n",
        "\n"
       ]
      }
     ],
     "prompt_number": 8
    },
    {
     "cell_type": "markdown",
     "metadata": {},
     "source": [
      "We can import the information into a pandas data frame"
     ]
    },
    {
     "cell_type": "code",
     "collapsed": false,
     "input": [
      "# read only valid json sub string into data frame\n",
      "df_fav = pd.read_json(json.dumps(s_fav['photo']['person']));"
     ],
     "language": "python",
     "metadata": {},
     "outputs": [],
     "prompt_number": 9
    },
    {
     "cell_type": "markdown",
     "metadata": {},
     "source": [
      "Now we can check we have a data frame that contains only information about favorites"
     ]
    },
    {
     "cell_type": "code",
     "collapsed": false,
     "input": [
      "df_fav"
     ],
     "language": "python",
     "metadata": {},
     "outputs": [
      {
       "html": [
        "<div style=\"max-height:1000px;max-width:1500px;overflow:auto;\">\n",
        "<table border=\"1\" class=\"dataframe\">\n",
        "  <thead>\n",
        "    <tr style=\"text-align: right;\">\n",
        "      <th></th>\n",
        "      <th>contact</th>\n",
        "      <th>family</th>\n",
        "      <th>favedate</th>\n",
        "      <th>friend</th>\n",
        "      <th>iconfarm</th>\n",
        "      <th>iconserver</th>\n",
        "      <th>nsid</th>\n",
        "      <th>realname</th>\n",
        "      <th>username</th>\n",
        "    </tr>\n",
        "  </thead>\n",
        "  <tbody>\n",
        "    <tr>\n",
        "      <th>0</th>\n",
        "      <td> 0</td>\n",
        "      <td> 0</td>\n",
        "      <td> 1406519587</td>\n",
        "      <td> 0</td>\n",
        "      <td> 4</td>\n",
        "      <td> 3908</td>\n",
        "      <td> 120825773@N05</td>\n",
        "      <td>              </td>\n",
        "      <td>                         Lukasan2014</td>\n",
        "    </tr>\n",
        "    <tr>\n",
        "      <th>1</th>\n",
        "      <td> 0</td>\n",
        "      <td> 0</td>\n",
        "      <td> 1406309214</td>\n",
        "      <td> 0</td>\n",
        "      <td> 3</td>\n",
        "      <td> 2927</td>\n",
        "      <td>  91007561@N05</td>\n",
        "      <td>              </td>\n",
        "      <td>            C\u01b0\u1eddng Euro | Photography</td>\n",
        "    </tr>\n",
        "    <tr>\n",
        "      <th>2</th>\n",
        "      <td> 0</td>\n",
        "      <td> 0</td>\n",
        "      <td> 1406293554</td>\n",
        "      <td> 0</td>\n",
        "      <td> 4</td>\n",
        "      <td> 3673</td>\n",
        "      <td> 104486340@N03</td>\n",
        "      <td>      JM Fikko</td>\n",
        "      <td>                            jm.fikko</td>\n",
        "    </tr>\n",
        "    <tr>\n",
        "      <th>3</th>\n",
        "      <td> 0</td>\n",
        "      <td> 0</td>\n",
        "      <td> 1406259611</td>\n",
        "      <td> 0</td>\n",
        "      <td> 3</td>\n",
        "      <td> 2939</td>\n",
        "      <td>  43738607@N07</td>\n",
        "      <td>              </td>\n",
        "      <td>                           .brianday</td>\n",
        "    </tr>\n",
        "    <tr>\n",
        "      <th>4</th>\n",
        "      <td> 0</td>\n",
        "      <td> 0</td>\n",
        "      <td> 1406239666</td>\n",
        "      <td> 0</td>\n",
        "      <td> 4</td>\n",
        "      <td> 3679</td>\n",
        "      <td>  60142567@N05</td>\n",
        "      <td>              </td>\n",
        "      <td>                           Paxtorino</td>\n",
        "    </tr>\n",
        "    <tr>\n",
        "      <th>5</th>\n",
        "      <td> 0</td>\n",
        "      <td> 0</td>\n",
        "      <td> 1406116570</td>\n",
        "      <td> 0</td>\n",
        "      <td> 5</td>\n",
        "      <td> 4108</td>\n",
        "      <td>  38030824@N04</td>\n",
        "      <td>              </td>\n",
        "      <td>                         christilou1</td>\n",
        "    </tr>\n",
        "    <tr>\n",
        "      <th>6</th>\n",
        "      <td> 0</td>\n",
        "      <td> 0</td>\n",
        "      <td> 1405960894</td>\n",
        "      <td> 0</td>\n",
        "      <td> 3</td>\n",
        "      <td> 2907</td>\n",
        "      <td>  96274428@N05</td>\n",
        "      <td>   Fabio Luzzi</td>\n",
        "      <td>                              faio33</td>\n",
        "    </tr>\n",
        "    <tr>\n",
        "      <th>7</th>\n",
        "      <td> 0</td>\n",
        "      <td> 0</td>\n",
        "      <td> 1405825932</td>\n",
        "      <td> 0</td>\n",
        "      <td> 9</td>\n",
        "      <td> 8060</td>\n",
        "      <td>  43295905@N05</td>\n",
        "      <td> Marvett Smith</td>\n",
        "      <td> Marvett Smith (Savoring the Simple)</td>\n",
        "    </tr>\n",
        "    <tr>\n",
        "      <th>8</th>\n",
        "      <td> 0</td>\n",
        "      <td> 0</td>\n",
        "      <td> 1405535709</td>\n",
        "      <td> 0</td>\n",
        "      <td> 3</td>\n",
        "      <td> 2888</td>\n",
        "      <td> 117312075@N06</td>\n",
        "      <td>   Abhijit Roy</td>\n",
        "      <td>                               c4roy</td>\n",
        "    </tr>\n",
        "    <tr>\n",
        "      <th>9</th>\n",
        "      <td> 0</td>\n",
        "      <td> 0</td>\n",
        "      <td> 1405488932</td>\n",
        "      <td> 0</td>\n",
        "      <td> 4</td>\n",
        "      <td> 3794</td>\n",
        "      <td>  28465812@N07</td>\n",
        "      <td>              </td>\n",
        "      <td>                  Monica &amp; Cebolinha</td>\n",
        "    </tr>\n",
        "  </tbody>\n",
        "</table>\n",
        "</div>"
       ],
       "metadata": {},
       "output_type": "pyout",
       "prompt_number": 10,
       "text": [
        "   contact  family    favedate  friend  iconfarm  iconserver           nsid  \\\n",
        "0        0       0  1406519587       0         4        3908  120825773@N05   \n",
        "1        0       0  1406309214       0         3        2927   91007561@N05   \n",
        "2        0       0  1406293554       0         4        3673  104486340@N03   \n",
        "3        0       0  1406259611       0         3        2939   43738607@N07   \n",
        "4        0       0  1406239666       0         4        3679   60142567@N05   \n",
        "5        0       0  1406116570       0         5        4108   38030824@N04   \n",
        "6        0       0  1405960894       0         3        2907   96274428@N05   \n",
        "7        0       0  1405825932       0         9        8060   43295905@N05   \n",
        "8        0       0  1405535709       0         3        2888  117312075@N06   \n",
        "9        0       0  1405488932       0         4        3794   28465812@N07   \n",
        "\n",
        "        realname                             username  \n",
        "0                                         Lukasan2014  \n",
        "1                            C\u01b0\u1eddng Euro | Photography  \n",
        "2       JM Fikko                             jm.fikko  \n",
        "3                                           .brianday  \n",
        "4                                           Paxtorino  \n",
        "5                                         christilou1  \n",
        "6    Fabio Luzzi                               faio33  \n",
        "7  Marvett Smith  Marvett Smith (Savoring the Simple)  \n",
        "8    Abhijit Roy                                c4roy  \n",
        "9                                  Monica & Cebolinha  "
       ]
      }
     ],
     "prompt_number": 10
    },
    {
     "cell_type": "markdown",
     "metadata": {},
     "source": [
      "To summarize, what we have to do to access our data of interest and put it into a data frame is the following:\n",
      "\n",
      "- Use the api to retrieve the information in a json formatted string\n",
      "- Remove some characters to make is a 'pure' json string readable by the python json package\n",
      "- Then, here is the **trick:** convert the string to a dict structure with `json.load`. Why do that? Because the information about the faves is easier to extract by using `my_json_var['field1'][field2']` type of queries (extracting directly from the string would require regular expressions and we don't want that).\n",
      "- Finally, pandas reads json as strings, so we convert it back with `json.dumps` and so can put it into a pandas data frame.\n",
      "\n",
      "_ **Edit:** I also tried it by using only data frames (without creating dict objects) but it required more manipulation._"
     ]
    },
    {
     "cell_type": "markdown",
     "metadata": {},
     "source": [
      "Next we can view the dates as a time series"
     ]
    },
    {
     "cell_type": "code",
     "collapsed": false,
     "input": [
      "df_fav['favedate']"
     ],
     "language": "python",
     "metadata": {},
     "outputs": [
      {
       "metadata": {},
       "output_type": "pyout",
       "prompt_number": 11,
       "text": [
        "0    1406519587\n",
        "1    1406309214\n",
        "2    1406293554\n",
        "3    1406259611\n",
        "4    1406239666\n",
        "5    1406116570\n",
        "6    1405960894\n",
        "7    1405825932\n",
        "8    1405535709\n",
        "9    1405488932\n",
        "Name: favedate, dtype: int64"
       ]
      }
     ],
     "prompt_number": 11
    },
    {
     "cell_type": "markdown",
     "metadata": {},
     "source": [
      "Then we want to convert the dates into a more readable format.\n",
      "\n",
      "For this we use the `to_datetime` function and specify that the UNIX timestamp unit is second (default is nanosecond)\n",
      "\n",
      "Additionally we may want to create a new data frame that only contains our date information."
     ]
    },
    {
     "cell_type": "code",
     "collapsed": false,
     "input": [
      "df2 = pd.DataFrame(pd.to_datetime(df_fav['favedate'], unit='s'))"
     ],
     "language": "python",
     "metadata": {},
     "outputs": [],
     "prompt_number": 12
    },
    {
     "cell_type": "markdown",
     "metadata": {},
     "source": [
      "If we are interested in the day of the week information, we have to create a `DateTimeIndex` object from which we can extract the `weekday` and create a new column of the data frame with such information"
     ]
    },
    {
     "cell_type": "code",
     "collapsed": false,
     "input": [
      "df2['weekday'] = pd.DatetimeIndex(df2['favedate']).weekday"
     ],
     "language": "python",
     "metadata": {},
     "outputs": [],
     "prompt_number": 13
    },
    {
     "cell_type": "code",
     "collapsed": false,
     "input": [
      "df2"
     ],
     "language": "python",
     "metadata": {},
     "outputs": [
      {
       "html": [
        "<div style=\"max-height:1000px;max-width:1500px;overflow:auto;\">\n",
        "<table border=\"1\" class=\"dataframe\">\n",
        "  <thead>\n",
        "    <tr style=\"text-align: right;\">\n",
        "      <th></th>\n",
        "      <th>favedate</th>\n",
        "      <th>weekday</th>\n",
        "    </tr>\n",
        "  </thead>\n",
        "  <tbody>\n",
        "    <tr>\n",
        "      <th>0</th>\n",
        "      <td>2014-07-28 03:53:07</td>\n",
        "      <td> 0</td>\n",
        "    </tr>\n",
        "    <tr>\n",
        "      <th>1</th>\n",
        "      <td>2014-07-25 17:26:54</td>\n",
        "      <td> 4</td>\n",
        "    </tr>\n",
        "    <tr>\n",
        "      <th>2</th>\n",
        "      <td>2014-07-25 13:05:54</td>\n",
        "      <td> 4</td>\n",
        "    </tr>\n",
        "    <tr>\n",
        "      <th>3</th>\n",
        "      <td>2014-07-25 03:40:11</td>\n",
        "      <td> 4</td>\n",
        "    </tr>\n",
        "    <tr>\n",
        "      <th>4</th>\n",
        "      <td>2014-07-24 22:07:46</td>\n",
        "      <td> 3</td>\n",
        "    </tr>\n",
        "    <tr>\n",
        "      <th>5</th>\n",
        "      <td>2014-07-23 11:56:10</td>\n",
        "      <td> 2</td>\n",
        "    </tr>\n",
        "    <tr>\n",
        "      <th>6</th>\n",
        "      <td>2014-07-21 16:41:34</td>\n",
        "      <td> 0</td>\n",
        "    </tr>\n",
        "    <tr>\n",
        "      <th>7</th>\n",
        "      <td>2014-07-20 03:12:12</td>\n",
        "      <td> 6</td>\n",
        "    </tr>\n",
        "    <tr>\n",
        "      <th>8</th>\n",
        "      <td>2014-07-16 18:35:09</td>\n",
        "      <td> 2</td>\n",
        "    </tr>\n",
        "    <tr>\n",
        "      <th>9</th>\n",
        "      <td>2014-07-16 05:35:32</td>\n",
        "      <td> 2</td>\n",
        "    </tr>\n",
        "  </tbody>\n",
        "</table>\n",
        "</div>"
       ],
       "metadata": {},
       "output_type": "pyout",
       "prompt_number": 14,
       "text": [
        "             favedate  weekday\n",
        "0 2014-07-28 03:53:07        0\n",
        "1 2014-07-25 17:26:54        4\n",
        "2 2014-07-25 13:05:54        4\n",
        "3 2014-07-25 03:40:11        4\n",
        "4 2014-07-24 22:07:46        3\n",
        "5 2014-07-23 11:56:10        2\n",
        "6 2014-07-21 16:41:34        0\n",
        "7 2014-07-20 03:12:12        6\n",
        "8 2014-07-16 18:35:09        2\n",
        "9 2014-07-16 05:35:32        2"
       ]
      }
     ],
     "prompt_number": 14
    },
    {
     "cell_type": "markdown",
     "metadata": {},
     "source": [
      "OK, so now we know those basic tools, we can start to visualize some stuff.\n",
      "\n",
      "Let's see if we can first visualize the number of favorites as a function of the time after posting a picture."
     ]
    },
    {
     "cell_type": "markdown",
     "metadata": {},
     "source": [
      "## II. Starting to explore the data\n",
      "\n",
      "In the following we define the number faves + comments as the activity.\n",
      "\n",
      "Things that may be interesting to look at: \n",
      "\n",
      "- Evolution of the activity with time\n",
      "    - For one photo\n",
      "    - For several photos (mean, variance)\n",
      "- Relation between this time curve and the ranking of the picture in explore.\n",
      "- Compare explore photos acativity evolution signatures with my average photos.\n",
      "- Defining attack and decay could be interesting as an attibute for the time vs activity curve.\n",
      "- Correlation between the week day the photo has been posted and the activity.\n",
      "- Relation between hour of the post and total activity.\n",
      "- Relation between the number of groups and activity.\n",
      "\n",
      "Here we chose the photo that has been ranked as first on the explore page and we try to see the evolution of the number of favorites with time.\n",
      "\n",
      "- First, we extract the first page of favorites, but we also need to get the number of pages which is in another field of the json dict object."
     ]
    },
    {
     "cell_type": "code",
     "collapsed": false,
     "input": [
      "# picture that is 1st on explore page (date Jul 29th 2014)\n",
      "pp = 50;\n",
      "p_id = '14778520992' \n",
      "str_tmp = flickr.photos_getFavorites(photo_id=p_id, per_page=pp);\n",
      "json_tmp = json.loads(str_tmp[14:-1])\n",
      "df_tmp = pd.read_json(json.dumps(json_tmp['photo']['person']));\n",
      "df_fav = pd.DataFrame(pd.to_datetime(df_tmp['favedate'], unit='s'))\n",
      "num_p = json_tmp['photo']['pages']\n",
      "num_p"
     ],
     "language": "python",
     "metadata": {
      "code_folding": []
     },
     "outputs": [
      {
       "metadata": {},
       "output_type": "pyout",
       "prompt_number": 6,
       "text": [
        "20"
       ]
      }
     ],
     "prompt_number": 6
    },
    {
     "cell_type": "markdown",
     "metadata": {},
     "source": [
      "- Because we work with relative time we need to extract the posting time and to convert it to a `pandas.Timestamp` object."
     ]
    },
    {
     "cell_type": "code",
     "collapsed": false,
     "input": [
      "str_tmp = flickr.photos_getInfo(photo_id=p_id);\n",
      "tt = int(json.loads(str_tmp[14:-1])['photo']['dates']['posted'])\n",
      "posted = pd.to_datetime(tt, unit='s')\n",
      "posted"
     ],
     "language": "python",
     "metadata": {},
     "outputs": [
      {
       "metadata": {},
       "output_type": "pyout",
       "prompt_number": 7,
       "text": [
        "Timestamp('2014-07-29 18:44:12')"
       ]
      }
     ],
     "prompt_number": 7
    },
    {
     "cell_type": "markdown",
     "metadata": {},
     "source": [
      "- Then we may continue extracting the rest of faves timestamps"
     ]
    },
    {
     "cell_type": "code",
     "collapsed": false,
     "input": [
      "for i in arange(2, num_p+1):\n",
      "    str_tmp = \\\n",
      "    flickr.photos_getFavorites(photo_id=p_id, page=i, per_page=pp)\n",
      "\n",
      "    json_tmp = json.loads(str_tmp[14:-1]);\n",
      "    df_tmp = pd.read_json(json.dumps(json_tmp['photo']['person']))\n",
      "    df_fav = df_fav.append(pd.DataFrame(pd.to_datetime(df_tmp['favedate'],\\\n",
      "                                                       unit='s')), ignore_index=True)\n",
      "#print \"data frame\\n\", df_fav"
     ],
     "language": "python",
     "metadata": {},
     "outputs": [],
     "prompt_number": 8
    },
    {
     "cell_type": "markdown",
     "metadata": {},
     "source": [
      "- Making a colum with time difference between post time and fave time"
     ]
    },
    {
     "cell_type": "code",
     "collapsed": false,
     "input": [
      "df_fav['diff'] = df_fav['favedate'] - posted"
     ],
     "language": "python",
     "metadata": {},
     "outputs": [],
     "prompt_number": 9
    },
    {
     "cell_type": "markdown",
     "metadata": {},
     "source": [
      "- Variable with time difference in hours"
     ]
    },
    {
     "cell_type": "code",
     "collapsed": false,
     "input": [
      "ts=(df_fav['diff'].astype('timedelta64[s]').astype(float)/3600);"
     ],
     "language": "python",
     "metadata": {},
     "outputs": [],
     "prompt_number": 10
    },
    {
     "cell_type": "markdown",
     "metadata": {},
     "source": [
      "- Finally we can draw a histogram of the evolution of number of favorites as this time difference. It gives us the dynamics of the number of favorites."
     ]
    },
    {
     "cell_type": "code",
     "collapsed": false,
     "input": [
      "figsize(17,5)\n",
      "ts.hist(bins=50, color='slategrey', histtype='stepfilled')\n",
      "xlabel('hours'); ylabel('Number of favorites')"
     ],
     "language": "python",
     "metadata": {},
     "outputs": [
      {
       "metadata": {},
       "output_type": "pyout",
       "prompt_number": 11,
       "text": [
        "<matplotlib.text.Text at 0x7f1551003450>"
       ]
      },
      {
       "metadata": {},
       "output_type": "display_data",
       "png": "[encoded data removed]",
       "text": [
        "<matplotlib.figure.Figure at 0x7f15611b7850>"
       ]
      }
     ],
     "prompt_number": 11
    },
    {
     "cell_type": "markdown",
     "metadata": {},
     "source": [
      "- Let's see if we can prettify this by importing the `seaborn` package that is built on top of `matplotlib` for statistical visualization."
     ]
    },
    {
     "cell_type": "code",
     "collapsed": false,
     "input": [
      "import seaborn as sb"
     ],
     "language": "python",
     "metadata": {},
     "outputs": [],
     "prompt_number": 8
    },
    {
     "cell_type": "code",
     "collapsed": false,
     "input": [
      "figsize(17,5)\n",
      "ts.hist(bins=50, color='slategrey', histtype='stepfilled')\n",
      "xlabel('hours'); ylabel('Number of favorites')"
     ],
     "language": "python",
     "metadata": {},
     "outputs": [
      {
       "metadata": {},
       "output_type": "pyout",
       "prompt_number": 13,
       "text": [
        "<matplotlib.text.Text at 0x7f15462ebd10>"
       ]
      },
      {
       "metadata": {},
       "output_type": "display_data",
       "png": "[encoded data removed]",
       "text": [
        "<matplotlib.figure.Figure at 0x7f154633f950>"
       ]
      }
     ],
     "prompt_number": 13
    },
    {
     "cell_type": "markdown",
     "metadata": {},
     "source": [
      "- Nice! Now, we would like to visualize information not only for one photo, but for many others that also figure on the explore page. What we have to do is to extract the id's of these photos, repeat the fave extraction operation for each of them and stack the data in a dataframe. To do so im a more systematic way, we may want to define functions.\n",
      "\n",
      "##\u00a0III. Writing functions "
     ]
    },
    {
     "cell_type": "code",
     "collapsed": false,
     "input": [
      "# Extracts for a photo the times and types of events (fave or comment)\n",
      "def getFlickrActivity(df_list):\n",
      "    pp = 50;\n",
      "    df = pd.DataFrame(columns=['time','event_type','photo_id'])\n",
      "    for p_id in df_list:\n",
      "        # parse first page (necessary to know the total number of pages)\n",
      "        str_tmp = flickr.photos_getFavorites(photo_id=p_id, per_page=pp)\n",
      "        json_tmp = json.loads(str_tmp[14:-1])\n",
      "        num_p = json_tmp['photo']['pages']\n",
      "        df_tmp = pd.read_json(json.dumps(json_tmp['photo']['person']))\n",
      "        dt = pd.Series(pd.to_datetime(df_tmp['favedate'], unit='s'))\n",
      "        df = df.append(pd.DataFrame({ 'time' : dt,\n",
      "                            'event_type' : 'f', \n",
      "                            'photo_id' : p_id}))\n",
      "    \n",
      "        # parse other pages\n",
      "        for i in arange(2, num_p+1):\n",
      "            str_tmp = \\\n",
      "            flickr.photos_getFavorites(photo_id=p_id, page=i, per_page=pp);\n",
      "            json_tmp = json.loads(str_tmp[14:-1])\n",
      "            df_tmp = pd.read_json(json.dumps(json_tmp['photo']['person']));\n",
      "            dt = pd.Series(pd.to_datetime(df_tmp['favedate'], unit='s'))\n",
      "            df = df.append(pd.DataFrame({ 'time' : dt,\n",
      "                            'event_type' : 'f', \n",
      "                            'photo_id' : p_id}), ignore_index=True)\n",
      "        \n",
      "        # do the same with comments (no page parsing required)\n",
      "        str_tmp = json.loads(flickr.photos_comments_getList(photo_id=p_id)[14:-1])\n",
      "        df_tmp = pd.read_json(json.dumps(str_tmp['comments']['comment']))\n",
      "        dt = pd.Series(pd.to_datetime(df_tmp['datecreate'], unit='s'))\n",
      "        df = df.append(pd.DataFrame({ 'time' : dt,\n",
      "                            'event_type' : 'c', \n",
      "                            'photo_id' : p_id}), ignore_index=True)\n",
      "\n",
      "    return df"
     ],
     "language": "python",
     "metadata": {
      "code_folding": []
     },
     "outputs": [],
     "prompt_number": 122
    },
    {
     "cell_type": "code",
     "collapsed": false,
     "input": [
      "# Takes a data frame containing a list of photos and extracts infomation for each of them\n",
      "# time posted, views (to complete in future versions)\n",
      "def getFlickrInfo(df_list):\n",
      "    pp = 50;\n",
      "    df_out = pd.DataFrame(index = df_list, columns = ['posted', 'views'])\n",
      "    for p_id in df_list:\n",
      " \n",
      "        str_tmp = flickr.photos_getInfo(photo_id=p_id)\n",
      "        tt = int(json.loads(str_tmp[14:-1])['photo']['dates']['posted'])\n",
      "        posted = pd.to_datetime(tt, unit='s')\n",
      "        views = int(json.loads(str_tmp[14:-1])['photo']['views'])\n",
      "        \n",
      "        df_out.posted.ix[p_id] = posted;\n",
      "        df_out.views.ix[p_id] = views;\n",
      "\n",
      "    return df_out"
     ],
     "language": "python",
     "metadata": {},
     "outputs": [],
     "prompt_number": 100
    },
    {
     "cell_type": "markdown",
     "metadata": {},
     "source": [
      "- Let's try to see if we could use this with the photos published in explore ('interesting' ones according to flickr) by defining a function that retrieves the list of these:"
     ]
    },
    {
     "cell_type": "code",
     "collapsed": false,
     "input": [
      "def getFlickrExploreList():\n",
      "    str_tmp = flickr.interestingness_getList()\n",
      "    json_tmp = json.loads(str_tmp[14:-1])\n",
      "    df_tmp = pd.read_json(json.dumps(json_tmp['photos']['photo']))\n",
      "    df = df_tmp['id']\n",
      "    return df # list of photo ids"
     ],
     "language": "python",
     "metadata": {},
     "outputs": [],
     "prompt_number": 21
    },
    {
     "cell_type": "code",
     "collapsed": false,
     "input": [
      "# Making a data frame with pictures from explore\n",
      "df_list = getFlickrExploreList()\n",
      "df_info = getFlickrInfo(df_list)\n",
      "df_event = getFlickrActivity(df_list)"
     ],
     "language": "python",
     "metadata": {},
     "outputs": [],
     "prompt_number": 126
    },
    {
     "cell_type": "markdown",
     "metadata": {},
     "source": [
      "Now we have a data frame `df_info` that contains for each picture the time posted and the number of views (which we couls also count as a part of the activity),"
     ]
    },
    {
     "cell_type": "code",
     "collapsed": false,
     "input": [
      "df_info.tail()"
     ],
     "language": "python",
     "metadata": {},
     "outputs": [
      {
       "html": [
        "<div style=\"max-height:1000px;max-width:1500px;overflow:auto;\">\n",
        "<table border=\"1\" class=\"dataframe\">\n",
        "  <thead>\n",
        "    <tr style=\"text-align: right;\">\n",
        "      <th></th>\n",
        "      <th>posted</th>\n",
        "      <th>views</th>\n",
        "    </tr>\n",
        "    <tr>\n",
        "      <th>id</th>\n",
        "      <th></th>\n",
        "      <th></th>\n",
        "    </tr>\n",
        "  </thead>\n",
        "  <tbody>\n",
        "    <tr>\n",
        "      <th>14718840270</th>\n",
        "      <td>2014-08-13 11:02:25</td>\n",
        "      <td> 8321</td>\n",
        "    </tr>\n",
        "    <tr>\n",
        "      <th>14719351297</th>\n",
        "      <td>2014-08-13 12:10:58</td>\n",
        "      <td> 3730</td>\n",
        "    </tr>\n",
        "    <tr>\n",
        "      <th>14911870415</th>\n",
        "      <td>2014-08-14 00:54:38</td>\n",
        "      <td> 2964</td>\n",
        "    </tr>\n",
        "    <tr>\n",
        "      <th>14906273095</th>\n",
        "      <td>2014-08-13 13:01:04</td>\n",
        "      <td> 8936</td>\n",
        "    </tr>\n",
        "    <tr>\n",
        "      <th>14906134445</th>\n",
        "      <td>2014-08-13 12:41:29</td>\n",
        "      <td> 5567</td>\n",
        "    </tr>\n",
        "  </tbody>\n",
        "</table>\n",
        "</div>"
       ],
       "metadata": {},
       "output_type": "pyout",
       "prompt_number": 127,
       "text": [
        "                         posted views\n",
        "id                                   \n",
        "14718840270 2014-08-13 11:02:25  8321\n",
        "14719351297 2014-08-13 12:10:58  3730\n",
        "14911870415 2014-08-14 00:54:38  2964\n",
        "14906273095 2014-08-13 13:01:04  8936\n",
        "14906134445 2014-08-13 12:41:29  5567"
       ]
      }
     ],
     "prompt_number": 127
    },
    {
     "cell_type": "markdown",
     "metadata": {},
     "source": [
      "and another one `df_event` that contains the list of events (fave and comments) for our picture list"
     ]
    },
    {
     "cell_type": "code",
     "collapsed": false,
     "input": [
      "df_event.tail()"
     ],
     "language": "python",
     "metadata": {},
     "outputs": [
      {
       "html": [
        "<div style=\"max-height:1000px;max-width:1500px;overflow:auto;\">\n",
        "<table border=\"1\" class=\"dataframe\">\n",
        "  <thead>\n",
        "    <tr style=\"text-align: right;\">\n",
        "      <th></th>\n",
        "      <th>event_type</th>\n",
        "      <th>photo_id</th>\n",
        "      <th>time</th>\n",
        "    </tr>\n",
        "  </thead>\n",
        "  <tbody>\n",
        "    <tr>\n",
        "      <th>22923</th>\n",
        "      <td> c</td>\n",
        "      <td> 14906134445</td>\n",
        "      <td>2014-08-14 08:13:03</td>\n",
        "    </tr>\n",
        "    <tr>\n",
        "      <th>22924</th>\n",
        "      <td> c</td>\n",
        "      <td> 14906134445</td>\n",
        "      <td>2014-08-14 09:37:36</td>\n",
        "    </tr>\n",
        "    <tr>\n",
        "      <th>22925</th>\n",
        "      <td> c</td>\n",
        "      <td> 14906134445</td>\n",
        "      <td>2014-08-14 10:17:58</td>\n",
        "    </tr>\n",
        "    <tr>\n",
        "      <th>22926</th>\n",
        "      <td> c</td>\n",
        "      <td> 14906134445</td>\n",
        "      <td>2014-08-14 10:46:53</td>\n",
        "    </tr>\n",
        "    <tr>\n",
        "      <th>22927</th>\n",
        "      <td> c</td>\n",
        "      <td> 14906134445</td>\n",
        "      <td>2014-08-14 13:30:43</td>\n",
        "    </tr>\n",
        "  </tbody>\n",
        "</table>\n",
        "</div>"
       ],
       "metadata": {},
       "output_type": "pyout",
       "prompt_number": 128,
       "text": [
        "      event_type     photo_id                time\n",
        "22923          c  14906134445 2014-08-14 08:13:03\n",
        "22924          c  14906134445 2014-08-14 09:37:36\n",
        "22925          c  14906134445 2014-08-14 10:17:58\n",
        "22926          c  14906134445 2014-08-14 10:46:53\n",
        "22927          c  14906134445 2014-08-14 13:30:43"
       ]
      }
     ],
     "prompt_number": 128
    },
    {
     "cell_type": "code",
     "collapsed": false,
     "input": [
      "figsize(8,6)\n",
      "tt=pd.DatetimeIndex(df_event['time']);\n",
      "hist(tt.hour, bins=23, histtype='stepfilled', alpha=0.7);\n"
     ],
     "language": "python",
     "metadata": {},
     "outputs": [
      {
       "metadata": {},
       "output_type": "display_data",
       "png": "[encoded data removed]",
       "text": [
        "<matplotlib.figure.Figure at 0x108c1a090>"
       ]
      }
     ],
     "prompt_number": 147
    },
    {
     "cell_type": "code",
     "collapsed": false,
     "input": [
      "figsize(8,6)\n",
      "tt=pd.DatetimeIndex(df_info['posted']);\n",
      "hist(tt.hour, bins=23, histtype='stepfilled', alpha=0.7);"
     ],
     "language": "python",
     "metadata": {},
     "outputs": [
      {
       "metadata": {},
       "output_type": "display_data",
       "png": "[encoded data removed]",
       "text": [
        "<matplotlib.figure.Figure at 0x108e01c90>"
       ]
      }
     ],
     "prompt_number": 148
    },
    {
     "cell_type": "code",
     "collapsed": false,
     "input": [
      "grouped=df_event.groupby('photo_id')"
     ],
     "language": "python",
     "metadata": {},
     "outputs": [],
     "prompt_number": 134
    },
    {
     "cell_type": "code",
     "collapsed": false,
     "input": [
      "figsize(15,7)\n",
      "for k, grp in df_event.groupby('photo_id'):\n",
      "    tt=pd.DatetimeIndex(grp['time'])\n",
      "    h=histogram(tt.hour, bins=23)\n",
      "    plot(h[0], '.r', alpha=0.25)"
     ],
     "language": "python",
     "metadata": {},
     "outputs": [
      {
       "metadata": {},
       "output_type": "display_data",
       "png": "[encoded data removed]",
       "text": [
        "<matplotlib.figure.Figure at 0x108eb5f50>"
       ]
      }
     ],
     "prompt_number": 150
    },
    {
     "cell_type": "code",
     "collapsed": false,
     "input": [],
     "language": "python",
     "metadata": {},
     "outputs": []
    }
   ],
   "metadata": {}
  }
 ]
}