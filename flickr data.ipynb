{
 "metadata": {
  "name": "",
  "signature": "sha256:40e194391cdc9f90c4828f599718220b38f0cd2f7842e61e99421125048d15b2"
 },
 "nbformat": 3,
 "nbformat_minor": 0,
 "worksheets": [
  {
   "cells": [
    {
     "cell_type": "markdown",
     "metadata": {},
     "source": [
      "# Diving into Flickr data with python\n",
      "\n",
      "This is a work in progress"
     ]
    },
    {
     "cell_type": "code",
     "collapsed": false,
     "input": [
      "import flickrapi\n",
      "import pandas as pd\n",
      "import json"
     ],
     "language": "python",
     "metadata": {},
     "outputs": [],
     "prompt_number": 59
    },
    {
     "cell_type": "markdown",
     "metadata": {},
     "source": [
      "## I. Data exploration"
     ]
    },
    {
     "cell_type": "markdown",
     "metadata": {},
     "source": [
      "First we declare a flickrapi object with our flickr API key"
     ]
    },
    {
     "cell_type": "code",
     "collapsed": false,
     "input": [
      "api_key = 'XXXXXXXXXXXXXXXXXXXXXXXXXX'\n",
      "flickr = flickrapi.FlickrAPI(api_key, format='json')"
     ],
     "language": "python",
     "metadata": {},
     "outputs": [],
     "prompt_number": 19
    },
    {
     "cell_type": "markdown",
     "metadata": {},
     "source": [
      "Then we retrieve the favs of a selected photo"
     ]
    },
    {
     "cell_type": "code",
     "collapsed": false,
     "input": [
      "fav = flickr.photos_getFavorites(photo_id='14368887810');"
     ],
     "language": "python",
     "metadata": {},
     "outputs": [],
     "prompt_number": 153
    },
    {
     "cell_type": "markdown",
     "metadata": {},
     "source": [
      "By printing the content of the string, we see that some characters have to be removed for having a valid JSON string"
     ]
    },
    {
     "cell_type": "code",
     "collapsed": false,
     "input": [
      "print 'head of fav:   ',fav[:50]\n",
      "print 'tailof fav:    ',fav[-50:],'\\n'\n",
      "# to return a valid json string, just remove 14 first characters and the last one\n",
      "print 'head of fav (valid):   ',fav[14:50]\n",
      "print 'tail of fav (valid):   ',fav[-50:-1]"
     ],
     "language": "python",
     "metadata": {},
     "outputs": [
      {
       "output_type": "stream",
       "stream": "stdout",
       "text": [
        "head of fav:    jsonFlickrApi({\"photo\":{\"person\":[{\"nsid\":\"4680674\n",
        "tailof fav:     s\":10, \"perpage\":10, \"total\":\"100\"}, \"stat\":\"ok\"}) \n",
        "\n",
        "head of fav (valid):    {\"photo\":{\"person\":[{\"nsid\":\"4680674\n",
        "tail of fav (valid):    s\":10, \"perpage\":10, \"total\":\"100\"}, \"stat\":\"ok\"}\n"
       ]
      }
     ],
     "prompt_number": 84
    },
    {
     "cell_type": "markdown",
     "metadata": {},
     "source": [
      "We parse JSON string, basically what it does is transforming the string into a dict"
     ]
    },
    {
     "cell_type": "code",
     "collapsed": false,
     "input": [
      "s_fav = json.loads(fav[14:-1])\n",
      "print str(s_fav)[:200] # printing only the beginning"
     ],
     "language": "python",
     "metadata": {},
     "outputs": [
      {
       "output_type": "stream",
       "stream": "stdout",
       "text": [
        "{u'photo': {u'perpage': 10, u'farm': 3, u'pages': 10, u'id': u'14368887810', u'person': [{u'username': u'oneworldmj', u'family': 0, u'realname': u'Michele', u'nsid': u'46806744@N03', u'iconserver': u'\n"
       ]
      }
     ],
     "prompt_number": 148
    },
    {
     "cell_type": "markdown",
     "metadata": {},
     "source": [
      "We can see that the content related to favorites is contained in the entry 'person' in the form of a list"
     ]
    },
    {
     "cell_type": "code",
     "collapsed": false,
     "input": [
      "print str(s_fav['photo']['person'])[:200], '\\n' # display the fav list\n",
      "print s_fav['photo']['person'][5], '\\n' # display info about one fav\n",
      "print s_fav['photo']['person'][5]['favedate'], '\\n' # display fav date (UNIX timestamp)"
     ],
     "language": "python",
     "metadata": {},
     "outputs": [
      {
       "output_type": "stream",
       "stream": "stdout",
       "text": [
        "[{u'username': u'oneworldmj', u'family': 0, u'realname': u'Michele', u'nsid': u'46806744@N03', u'iconserver': u'2874', u'favedate': u'1404676986', u'contact': 0, u'friend': 0, u'iconfarm': 3}, {u'user \n",
        "\n",
        "{u'username': u'DufferLong', u'family': 0, u'realname': u'Long Nguyen', u'nsid': u'73993507@N00', u'iconserver': u'8217', u'favedate': u'1404562778', u'contact': 0, u'friend': 0, u'iconfarm': 9} \n",
        "\n",
        "1404562778 \n",
        "\n"
       ]
      }
     ],
     "prompt_number": 149
    },
    {
     "cell_type": "markdown",
     "metadata": {},
     "source": [
      "We can import the information into a pandas data frame"
     ]
    },
    {
     "cell_type": "code",
     "collapsed": false,
     "input": [
      "# read only valid json sub string into data frame\n",
      "df_fav = pd.read_json(json.dumps(s_fav['photo']['person']));"
     ],
     "language": "python",
     "metadata": {},
     "outputs": [],
     "prompt_number": 151
    },
    {
     "cell_type": "markdown",
     "metadata": {},
     "source": [
      "Now we can check we have a data frame that contains only information about favorites"
     ]
    },
    {
     "cell_type": "code",
     "collapsed": false,
     "input": [
      "df_fav"
     ],
     "language": "python",
     "metadata": {},
     "outputs": [
      {
       "html": [
        "<div style=\"max-height:1000px;max-width:1500px;overflow:auto;\">\n",
        "<table border=\"1\" class=\"dataframe\">\n",
        "  <thead>\n",
        "    <tr style=\"text-align: right;\">\n",
        "      <th></th>\n",
        "      <th>contact</th>\n",
        "      <th>family</th>\n",
        "      <th>favedate</th>\n",
        "      <th>friend</th>\n",
        "      <th>iconfarm</th>\n",
        "      <th>iconserver</th>\n",
        "      <th>nsid</th>\n",
        "      <th>realname</th>\n",
        "      <th>username</th>\n",
        "    </tr>\n",
        "  </thead>\n",
        "  <tbody>\n",
        "    <tr>\n",
        "      <th>0</th>\n",
        "      <td> 0</td>\n",
        "      <td> 0</td>\n",
        "      <td> 1404676986</td>\n",
        "      <td> 0</td>\n",
        "      <td> 3</td>\n",
        "      <td> 2874</td>\n",
        "      <td>  46806744@N03</td>\n",
        "      <td>               Michele</td>\n",
        "      <td>              oneworldmj</td>\n",
        "    </tr>\n",
        "    <tr>\n",
        "      <th>1</th>\n",
        "      <td> 0</td>\n",
        "      <td> 0</td>\n",
        "      <td> 1404670937</td>\n",
        "      <td> 0</td>\n",
        "      <td> 0</td>\n",
        "      <td>    0</td>\n",
        "      <td> 101079081@N05</td>\n",
        "      <td>           T\u00ed c\u00f4 n\u01b0\u01a1ng</td>\n",
        "      <td>         mot_it_moi_ngay</td>\n",
        "    </tr>\n",
        "    <tr>\n",
        "      <th>2</th>\n",
        "      <td> 0</td>\n",
        "      <td> 0</td>\n",
        "      <td> 1404663240</td>\n",
        "      <td> 0</td>\n",
        "      <td> 8</td>\n",
        "      <td> 7432</td>\n",
        "      <td> 104982365@N07</td>\n",
        "      <td>                  \u6881 \u5fd7\u5f3a</td>\n",
        "      <td>                   \u4e24\u652f\u67aaer</td>\n",
        "    </tr>\n",
        "    <tr>\n",
        "      <th>3</th>\n",
        "      <td> 0</td>\n",
        "      <td> 0</td>\n",
        "      <td> 1404584319</td>\n",
        "      <td> 0</td>\n",
        "      <td> 4</td>\n",
        "      <td> 3589</td>\n",
        "      <td>  16678301@N02</td>\n",
        "      <td>                      </td>\n",
        "      <td>             *DollyLove*</td>\n",
        "    </tr>\n",
        "    <tr>\n",
        "      <th>4</th>\n",
        "      <td> 0</td>\n",
        "      <td> 0</td>\n",
        "      <td> 1404569119</td>\n",
        "      <td> 0</td>\n",
        "      <td> 3</td>\n",
        "      <td> 2566</td>\n",
        "      <td>  40461532@N05</td>\n",
        "      <td>              Mary Ann</td>\n",
        "      <td>          My Inner Child</td>\n",
        "    </tr>\n",
        "    <tr>\n",
        "      <th>5</th>\n",
        "      <td> 0</td>\n",
        "      <td> 0</td>\n",
        "      <td> 1404562778</td>\n",
        "      <td> 0</td>\n",
        "      <td> 9</td>\n",
        "      <td> 8217</td>\n",
        "      <td>  73993507@N00</td>\n",
        "      <td>           Long Nguyen</td>\n",
        "      <td>              DufferLong</td>\n",
        "    </tr>\n",
        "    <tr>\n",
        "      <th>6</th>\n",
        "      <td> 0</td>\n",
        "      <td> 0</td>\n",
        "      <td> 1404549363</td>\n",
        "      <td> 0</td>\n",
        "      <td> 6</td>\n",
        "      <td> 5479</td>\n",
        "      <td>  72226043@N02</td>\n",
        "      <td>                      </td>\n",
        "      <td>                  {Zack}</td>\n",
        "    </tr>\n",
        "    <tr>\n",
        "      <th>7</th>\n",
        "      <td> 0</td>\n",
        "      <td> 0</td>\n",
        "      <td> 1404499368</td>\n",
        "      <td> 0</td>\n",
        "      <td> 9</td>\n",
        "      <td> 8132</td>\n",
        "      <td>  43793670@N04</td>\n",
        "      <td>                      </td>\n",
        "      <td>           nina's clicks</td>\n",
        "    </tr>\n",
        "    <tr>\n",
        "      <th>8</th>\n",
        "      <td> 0</td>\n",
        "      <td> 0</td>\n",
        "      <td> 1404494992</td>\n",
        "      <td> 0</td>\n",
        "      <td> 4</td>\n",
        "      <td> 3826</td>\n",
        "      <td>  60121135@N06</td>\n",
        "      <td> Querencia Photography</td>\n",
        "      <td> Querencia - Photography</td>\n",
        "    </tr>\n",
        "    <tr>\n",
        "      <th>9</th>\n",
        "      <td> 0</td>\n",
        "      <td> 0</td>\n",
        "      <td> 1404488503</td>\n",
        "      <td> 0</td>\n",
        "      <td> 8</td>\n",
        "      <td> 7187</td>\n",
        "      <td>  87237179@N08</td>\n",
        "      <td>        Eric Leo Kogan</td>\n",
        "      <td>                 elkogan</td>\n",
        "    </tr>\n",
        "  </tbody>\n",
        "</table>\n",
        "</div>"
       ],
       "metadata": {},
       "output_type": "pyout",
       "prompt_number": 152,
       "text": [
        "   contact  family    favedate  friend  iconfarm  iconserver           nsid  \\\n",
        "0        0       0  1404676986       0         3        2874   46806744@N03   \n",
        "1        0       0  1404670937       0         0           0  101079081@N05   \n",
        "2        0       0  1404663240       0         8        7432  104982365@N07   \n",
        "3        0       0  1404584319       0         4        3589   16678301@N02   \n",
        "4        0       0  1404569119       0         3        2566   40461532@N05   \n",
        "5        0       0  1404562778       0         9        8217   73993507@N00   \n",
        "6        0       0  1404549363       0         6        5479   72226043@N02   \n",
        "7        0       0  1404499368       0         9        8132   43793670@N04   \n",
        "8        0       0  1404494992       0         4        3826   60121135@N06   \n",
        "9        0       0  1404488503       0         8        7187   87237179@N08   \n",
        "\n",
        "                realname                 username  \n",
        "0                Michele               oneworldmj  \n",
        "1            T\u00ed c\u00f4 n\u01b0\u01a1ng          mot_it_moi_ngay  \n",
        "2                   \u6881 \u5fd7\u5f3a                    \u4e24\u652f\u67aaer  \n",
        "3                                     *DollyLove*  \n",
        "4               Mary Ann           My Inner Child  \n",
        "5            Long Nguyen               DufferLong  \n",
        "6                                          {Zack}  \n",
        "7                                   nina's clicks  \n",
        "8  Querencia Photography  Querencia - Photography  \n",
        "9         Eric Leo Kogan                  elkogan  "
       ]
      }
     ],
     "prompt_number": 152
    },
    {
     "cell_type": "code",
     "collapsed": false,
     "input": [
      "df_fav['favedate'].head()"
     ],
     "language": "python",
     "metadata": {},
     "outputs": [
      {
       "metadata": {},
       "output_type": "pyout",
       "prompt_number": 147,
       "text": [
        "0    1404676986\n",
        "1    1404670937\n",
        "2    1404663240\n",
        "3    1404584319\n",
        "4    1404569119\n",
        "Name: favedate, dtype: int64"
       ]
      }
     ],
     "prompt_number": 147
    },
    {
     "cell_type": "code",
     "collapsed": false,
     "input": [],
     "language": "python",
     "metadata": {},
     "outputs": []
    },
    {
     "cell_type": "code",
     "collapsed": false,
     "input": [],
     "language": "python",
     "metadata": {},
     "outputs": []
    }
   ],
   "metadata": {}
  }
 ]
}