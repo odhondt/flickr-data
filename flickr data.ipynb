{
 "metadata": {
  "name": "",
  "signature": "sha256:537dda578e1c6d152366545371dd7a44c0a6b5887c0de69fb1bc89b0b8844267"
 },
 "nbformat": 3,
 "nbformat_minor": 0,
 "worksheets": [
  {
   "cells": [
    {
     "cell_type": "markdown",
     "metadata": {},
     "source": [
      "# Diving into Flickr data with python\n",
      "\n",
      "This is a work in progress"
     ]
    },
    {
     "cell_type": "code",
     "collapsed": false,
     "input": [
      "import flickrapi\n",
      "import pandas as pd\n",
      "import json"
     ],
     "language": "python",
     "metadata": {},
     "outputs": [],
     "prompt_number": 1
    },
    {
     "cell_type": "markdown",
     "metadata": {},
     "source": [
      "**Prerequisite:**\n",
      "\n",
      "In order to understand this tutorial you need knowledge about a few things:\n",
      "- python and numpy basic knowledge\n",
      "- what is the json format\n",
      "- what is an api\n",
      "- some basic knowledge about pandas. The official doc has a '10 minutes to pandas' section that should do. \n",
      "\n",
      "Happy googling! :)"
     ]
    },
    {
     "cell_type": "markdown",
     "metadata": {},
     "source": [
      "## I. Learning some basic operations"
     ]
    },
    {
     "cell_type": "markdown",
     "metadata": {},
     "source": [
      "First we declare a flickrapi object with our flickr API key"
     ]
    },
    {
     "cell_type": "code",
     "collapsed": false,
     "input": [
      "api_key = ''\n",
      "flickr = flickrapi.FlickrAPI(api_key, format='json')"
     ],
     "language": "python",
     "metadata": {},
     "outputs": [],
     "prompt_number": 99
    },
    {
     "cell_type": "markdown",
     "metadata": {},
     "source": [
      "Then we retrieve the faves (favorites) of a selected photo.\n",
      "\n",
      "Here we choose to use the JSON format because it is readable by pandas."
     ]
    },
    {
     "cell_type": "code",
     "collapsed": false,
     "input": [
      "fav = flickr.photos_getFavorites(photo_id='14368887810');"
     ],
     "language": "python",
     "metadata": {},
     "outputs": [],
     "prompt_number": 5
    },
    {
     "cell_type": "markdown",
     "metadata": {},
     "source": [
      "By printing the content of the string, we see that some characters have to be removed for having a valid JSON string"
     ]
    },
    {
     "cell_type": "code",
     "collapsed": false,
     "input": [
      "print 'head of fav:   ',fav[:50]\n",
      "print 'tail of fav:    ',fav[-50:],'\\n'\n",
      "# to return a valid json string, just remove 14 first characters and the last one\n",
      "print 'head of fav (valid):   ',fav[14:50]\n",
      "print 'tail of fav (valid):   ',fav[-50:-1]"
     ],
     "language": "python",
     "metadata": {},
     "outputs": [
      {
       "output_type": "stream",
       "stream": "stdout",
       "text": [
        "head of fav:    jsonFlickrApi({\"photo\":{\"person\":[{\"nsid\":\"1208257\n",
        "tailof fav:     s\":12, \"perpage\":10, \"total\":\"120\"}, \"stat\":\"ok\"}) \n",
        "\n",
        "head of fav (valid):    {\"photo\":{\"person\":[{\"nsid\":\"1208257\n",
        "tail of fav (valid):    s\":12, \"perpage\":10, \"total\":\"120\"}, \"stat\":\"ok\"}\n"
       ]
      }
     ],
     "prompt_number": 6
    },
    {
     "cell_type": "markdown",
     "metadata": {},
     "source": [
      "We parse JSON string, basically what it does is transforming the string into a dict"
     ]
    },
    {
     "cell_type": "code",
     "collapsed": false,
     "input": [
      "s_fav = json.loads(fav[14:-1])\n",
      "print str(s_fav)[:200] # printing only the beginning"
     ],
     "language": "python",
     "metadata": {},
     "outputs": [
      {
       "output_type": "stream",
       "stream": "stdout",
       "text": [
        "{u'photo': {u'perpage': 10, u'farm': 3, u'pages': 12, u'id': u'14368887810', u'person': [{u'username': u'Lukasan2014', u'family': 0, u'realname': u'', u'nsid': u'120825773@N05', u'iconserver': u'3908'\n"
       ]
      }
     ],
     "prompt_number": 7
    },
    {
     "cell_type": "markdown",
     "metadata": {},
     "source": [
      "We can see that the content related to favorites is contained in the entry 'person' in the form of a list"
     ]
    },
    {
     "cell_type": "code",
     "collapsed": false,
     "input": [
      "print str(s_fav['photo']['person'])[:200], '\\n' # display the fav list\n",
      "print s_fav['photo']['person'][5], '\\n' # display info about one fav\n",
      "print s_fav['photo']['person'][5]['favedate'], '\\n' # display fav date (UNIX timestamp)"
     ],
     "language": "python",
     "metadata": {},
     "outputs": [
      {
       "output_type": "stream",
       "stream": "stdout",
       "text": [
        "[{u'username': u'Lukasan2014', u'family': 0, u'realname': u'', u'nsid': u'120825773@N05', u'iconserver': u'3908', u'favedate': u'1406519587', u'contact': 0, u'friend': 0, u'iconfarm': 4}, {u'username' \n",
        "\n",
        "{u'username': u'christilou1', u'family': 0, u'realname': u'', u'nsid': u'38030824@N04', u'iconserver': u'4108', u'favedate': u'1406116570', u'contact': 0, u'friend': 0, u'iconfarm': 5} \n",
        "\n",
        "1406116570 \n",
        "\n"
       ]
      }
     ],
     "prompt_number": 8
    },
    {
     "cell_type": "markdown",
     "metadata": {},
     "source": [
      "We can import the information into a pandas data frame"
     ]
    },
    {
     "cell_type": "code",
     "collapsed": false,
     "input": [
      "# read only valid json sub string into data frame\n",
      "df_fav = pd.read_json(json.dumps(s_fav['photo']['person']));"
     ],
     "language": "python",
     "metadata": {},
     "outputs": [],
     "prompt_number": 9
    },
    {
     "cell_type": "markdown",
     "metadata": {},
     "source": [
      "Now we can check we have a data frame that contains only information about favorites"
     ]
    },
    {
     "cell_type": "code",
     "collapsed": false,
     "input": [
      "df_fav"
     ],
     "language": "python",
     "metadata": {},
     "outputs": [
      {
       "html": [
        "<div style=\"max-height:1000px;max-width:1500px;overflow:auto;\">\n",
        "<table border=\"1\" class=\"dataframe\">\n",
        "  <thead>\n",
        "    <tr style=\"text-align: right;\">\n",
        "      <th></th>\n",
        "      <th>contact</th>\n",
        "      <th>family</th>\n",
        "      <th>favedate</th>\n",
        "      <th>friend</th>\n",
        "      <th>iconfarm</th>\n",
        "      <th>iconserver</th>\n",
        "      <th>nsid</th>\n",
        "      <th>realname</th>\n",
        "      <th>username</th>\n",
        "    </tr>\n",
        "  </thead>\n",
        "  <tbody>\n",
        "    <tr>\n",
        "      <th>0</th>\n",
        "      <td> 0</td>\n",
        "      <td> 0</td>\n",
        "      <td> 1406519587</td>\n",
        "      <td> 0</td>\n",
        "      <td> 4</td>\n",
        "      <td> 3908</td>\n",
        "      <td> 120825773@N05</td>\n",
        "      <td>              </td>\n",
        "      <td>                         Lukasan2014</td>\n",
        "    </tr>\n",
        "    <tr>\n",
        "      <th>1</th>\n",
        "      <td> 0</td>\n",
        "      <td> 0</td>\n",
        "      <td> 1406309214</td>\n",
        "      <td> 0</td>\n",
        "      <td> 3</td>\n",
        "      <td> 2927</td>\n",
        "      <td>  91007561@N05</td>\n",
        "      <td>              </td>\n",
        "      <td>            C\u01b0\u1eddng Euro | Photography</td>\n",
        "    </tr>\n",
        "    <tr>\n",
        "      <th>2</th>\n",
        "      <td> 0</td>\n",
        "      <td> 0</td>\n",
        "      <td> 1406293554</td>\n",
        "      <td> 0</td>\n",
        "      <td> 4</td>\n",
        "      <td> 3673</td>\n",
        "      <td> 104486340@N03</td>\n",
        "      <td>      JM Fikko</td>\n",
        "      <td>                            jm.fikko</td>\n",
        "    </tr>\n",
        "    <tr>\n",
        "      <th>3</th>\n",
        "      <td> 0</td>\n",
        "      <td> 0</td>\n",
        "      <td> 1406259611</td>\n",
        "      <td> 0</td>\n",
        "      <td> 3</td>\n",
        "      <td> 2939</td>\n",
        "      <td>  43738607@N07</td>\n",
        "      <td>              </td>\n",
        "      <td>                           .brianday</td>\n",
        "    </tr>\n",
        "    <tr>\n",
        "      <th>4</th>\n",
        "      <td> 0</td>\n",
        "      <td> 0</td>\n",
        "      <td> 1406239666</td>\n",
        "      <td> 0</td>\n",
        "      <td> 4</td>\n",
        "      <td> 3679</td>\n",
        "      <td>  60142567@N05</td>\n",
        "      <td>              </td>\n",
        "      <td>                           Paxtorino</td>\n",
        "    </tr>\n",
        "    <tr>\n",
        "      <th>5</th>\n",
        "      <td> 0</td>\n",
        "      <td> 0</td>\n",
        "      <td> 1406116570</td>\n",
        "      <td> 0</td>\n",
        "      <td> 5</td>\n",
        "      <td> 4108</td>\n",
        "      <td>  38030824@N04</td>\n",
        "      <td>              </td>\n",
        "      <td>                         christilou1</td>\n",
        "    </tr>\n",
        "    <tr>\n",
        "      <th>6</th>\n",
        "      <td> 0</td>\n",
        "      <td> 0</td>\n",
        "      <td> 1405960894</td>\n",
        "      <td> 0</td>\n",
        "      <td> 3</td>\n",
        "      <td> 2907</td>\n",
        "      <td>  96274428@N05</td>\n",
        "      <td>   Fabio Luzzi</td>\n",
        "      <td>                              faio33</td>\n",
        "    </tr>\n",
        "    <tr>\n",
        "      <th>7</th>\n",
        "      <td> 0</td>\n",
        "      <td> 0</td>\n",
        "      <td> 1405825932</td>\n",
        "      <td> 0</td>\n",
        "      <td> 9</td>\n",
        "      <td> 8060</td>\n",
        "      <td>  43295905@N05</td>\n",
        "      <td> Marvett Smith</td>\n",
        "      <td> Marvett Smith (Savoring the Simple)</td>\n",
        "    </tr>\n",
        "    <tr>\n",
        "      <th>8</th>\n",
        "      <td> 0</td>\n",
        "      <td> 0</td>\n",
        "      <td> 1405535709</td>\n",
        "      <td> 0</td>\n",
        "      <td> 3</td>\n",
        "      <td> 2888</td>\n",
        "      <td> 117312075@N06</td>\n",
        "      <td>   Abhijit Roy</td>\n",
        "      <td>                               c4roy</td>\n",
        "    </tr>\n",
        "    <tr>\n",
        "      <th>9</th>\n",
        "      <td> 0</td>\n",
        "      <td> 0</td>\n",
        "      <td> 1405488932</td>\n",
        "      <td> 0</td>\n",
        "      <td> 4</td>\n",
        "      <td> 3794</td>\n",
        "      <td>  28465812@N07</td>\n",
        "      <td>              </td>\n",
        "      <td>                  Monica &amp; Cebolinha</td>\n",
        "    </tr>\n",
        "  </tbody>\n",
        "</table>\n",
        "</div>"
       ],
       "metadata": {},
       "output_type": "pyout",
       "prompt_number": 10,
       "text": [
        "   contact  family    favedate  friend  iconfarm  iconserver           nsid  \\\n",
        "0        0       0  1406519587       0         4        3908  120825773@N05   \n",
        "1        0       0  1406309214       0         3        2927   91007561@N05   \n",
        "2        0       0  1406293554       0         4        3673  104486340@N03   \n",
        "3        0       0  1406259611       0         3        2939   43738607@N07   \n",
        "4        0       0  1406239666       0         4        3679   60142567@N05   \n",
        "5        0       0  1406116570       0         5        4108   38030824@N04   \n",
        "6        0       0  1405960894       0         3        2907   96274428@N05   \n",
        "7        0       0  1405825932       0         9        8060   43295905@N05   \n",
        "8        0       0  1405535709       0         3        2888  117312075@N06   \n",
        "9        0       0  1405488932       0         4        3794   28465812@N07   \n",
        "\n",
        "        realname                             username  \n",
        "0                                         Lukasan2014  \n",
        "1                            C\u01b0\u1eddng Euro | Photography  \n",
        "2       JM Fikko                             jm.fikko  \n",
        "3                                           .brianday  \n",
        "4                                           Paxtorino  \n",
        "5                                         christilou1  \n",
        "6    Fabio Luzzi                               faio33  \n",
        "7  Marvett Smith  Marvett Smith (Savoring the Simple)  \n",
        "8    Abhijit Roy                                c4roy  \n",
        "9                                  Monica & Cebolinha  "
       ]
      }
     ],
     "prompt_number": 10
    },
    {
     "cell_type": "markdown",
     "metadata": {},
     "source": [
      "To summarize, what we have to do to access our data of interest and put it into a data frame is the following:\n",
      "\n",
      "- Use the api to retrieve the information in a json formatted string\n",
      "- Remove some characters to make is a 'pure' json string readable by the python json package\n",
      "- Then, here is the **trick:** convert the string to a dict structure with `json.load`. Why do that? Because the information about the faves is easier to extract by using `my_json_var['field1'][field2']` type of queries (extracting directly from the string would require regular expressions and we don't want that).\n",
      "- Finally, pandas reads json as strings, so we convert it back with `json.dumps` and so can put it into a pandas data frame.\n",
      "\n",
      "_ **Edit:** I also tried it by using only data frames (without creating dict objects) but it required more manipulation._"
     ]
    },
    {
     "cell_type": "markdown",
     "metadata": {},
     "source": [
      "Next we can view the dates as a time series"
     ]
    },
    {
     "cell_type": "code",
     "collapsed": false,
     "input": [
      "df_fav['favedate']"
     ],
     "language": "python",
     "metadata": {},
     "outputs": [
      {
       "metadata": {},
       "output_type": "pyout",
       "prompt_number": 11,
       "text": [
        "0    1406519587\n",
        "1    1406309214\n",
        "2    1406293554\n",
        "3    1406259611\n",
        "4    1406239666\n",
        "5    1406116570\n",
        "6    1405960894\n",
        "7    1405825932\n",
        "8    1405535709\n",
        "9    1405488932\n",
        "Name: favedate, dtype: int64"
       ]
      }
     ],
     "prompt_number": 11
    },
    {
     "cell_type": "markdown",
     "metadata": {},
     "source": [
      "Then we want to convert the dates into a more readable format.\n",
      "\n",
      "For this we use the `to_datetime` function and specify that the UNIX timestamp unit is second (default is nanosecond)\n",
      "\n",
      "Additionally we may want to create a new data frame that only contains our date information."
     ]
    },
    {
     "cell_type": "code",
     "collapsed": false,
     "input": [
      "df2 = pd.DataFrame(pd.to_datetime(df_fav['favedate'], unit='s'))"
     ],
     "language": "python",
     "metadata": {},
     "outputs": [],
     "prompt_number": 12
    },
    {
     "cell_type": "markdown",
     "metadata": {},
     "source": [
      "If we are interested in the day of the week information, we have to create a `DateTimeIndex` object from which we can extract the `weekday` and create a new column of the data frame with such information"
     ]
    },
    {
     "cell_type": "code",
     "collapsed": false,
     "input": [
      "df2['weekday'] = pd.DatetimeIndex(df2['favedate']).weekday"
     ],
     "language": "python",
     "metadata": {},
     "outputs": [],
     "prompt_number": 13
    },
    {
     "cell_type": "code",
     "collapsed": false,
     "input": [
      "df2"
     ],
     "language": "python",
     "metadata": {},
     "outputs": [
      {
       "html": [
        "<div style=\"max-height:1000px;max-width:1500px;overflow:auto;\">\n",
        "<table border=\"1\" class=\"dataframe\">\n",
        "  <thead>\n",
        "    <tr style=\"text-align: right;\">\n",
        "      <th></th>\n",
        "      <th>favedate</th>\n",
        "      <th>weekday</th>\n",
        "    </tr>\n",
        "  </thead>\n",
        "  <tbody>\n",
        "    <tr>\n",
        "      <th>0</th>\n",
        "      <td>2014-07-28 03:53:07</td>\n",
        "      <td> 0</td>\n",
        "    </tr>\n",
        "    <tr>\n",
        "      <th>1</th>\n",
        "      <td>2014-07-25 17:26:54</td>\n",
        "      <td> 4</td>\n",
        "    </tr>\n",
        "    <tr>\n",
        "      <th>2</th>\n",
        "      <td>2014-07-25 13:05:54</td>\n",
        "      <td> 4</td>\n",
        "    </tr>\n",
        "    <tr>\n",
        "      <th>3</th>\n",
        "      <td>2014-07-25 03:40:11</td>\n",
        "      <td> 4</td>\n",
        "    </tr>\n",
        "    <tr>\n",
        "      <th>4</th>\n",
        "      <td>2014-07-24 22:07:46</td>\n",
        "      <td> 3</td>\n",
        "    </tr>\n",
        "    <tr>\n",
        "      <th>5</th>\n",
        "      <td>2014-07-23 11:56:10</td>\n",
        "      <td> 2</td>\n",
        "    </tr>\n",
        "    <tr>\n",
        "      <th>6</th>\n",
        "      <td>2014-07-21 16:41:34</td>\n",
        "      <td> 0</td>\n",
        "    </tr>\n",
        "    <tr>\n",
        "      <th>7</th>\n",
        "      <td>2014-07-20 03:12:12</td>\n",
        "      <td> 6</td>\n",
        "    </tr>\n",
        "    <tr>\n",
        "      <th>8</th>\n",
        "      <td>2014-07-16 18:35:09</td>\n",
        "      <td> 2</td>\n",
        "    </tr>\n",
        "    <tr>\n",
        "      <th>9</th>\n",
        "      <td>2014-07-16 05:35:32</td>\n",
        "      <td> 2</td>\n",
        "    </tr>\n",
        "  </tbody>\n",
        "</table>\n",
        "</div>"
       ],
       "metadata": {},
       "output_type": "pyout",
       "prompt_number": 14,
       "text": [
        "             favedate  weekday\n",
        "0 2014-07-28 03:53:07        0\n",
        "1 2014-07-25 17:26:54        4\n",
        "2 2014-07-25 13:05:54        4\n",
        "3 2014-07-25 03:40:11        4\n",
        "4 2014-07-24 22:07:46        3\n",
        "5 2014-07-23 11:56:10        2\n",
        "6 2014-07-21 16:41:34        0\n",
        "7 2014-07-20 03:12:12        6\n",
        "8 2014-07-16 18:35:09        2\n",
        "9 2014-07-16 05:35:32        2"
       ]
      }
     ],
     "prompt_number": 14
    },
    {
     "cell_type": "markdown",
     "metadata": {},
     "source": [
      "OK, so now we know those basic tools, we can start to visualize some stuff.\n",
      "\n",
      "Let's see if we can first visualize the number of favorites as a function of the time after posting a picture."
     ]
    },
    {
     "cell_type": "markdown",
     "metadata": {},
     "source": [
      "## II. Starting to explore the data\n",
      "\n",
      "In the following we define the number faves + comments as the activity.\n",
      "\n",
      "Things that may be interesting to look at: \n",
      "\n",
      "- Evolution of the activity with time\n",
      "    - For one photo\n",
      "    - For several photos (mean, variance)\n",
      "- Relation between this time curve and the ranking of the picture in explore.\n",
      "- Compare explore photos acativity evolution signatures with my average photos.\n",
      "- Defining attack and decay could be interesting as an attibute for the time vs activity curve.\n",
      "- Correlation between the week day the photo has been posted and the activity.\n",
      "- Relation between hour of the post and total activity.\n",
      "- Relation between the number of groups and activity.\n",
      "\n",
      "Here we chose the photo that has been ranked as first on the explore page and we try to see the evolution of the number of favorites with time.\n",
      "\n",
      "- First, we extract the first page of favorites, but we also need to get the number of pages which is in another field of the json dict object."
     ]
    },
    {
     "cell_type": "code",
     "collapsed": false,
     "input": [
      "# picture that is 1st on explore page (date Jul 29th 2014)\n",
      "pp = 50;\n",
      "p_id = '14778520992' \n",
      "str_tmp = flickr.photos_getFavorites(photo_id=p_id, per_page=pp);\n",
      "json_tmp = json.loads(str_tmp[14:-1])\n",
      "df_tmp = pd.read_json(json.dumps(json_tmp['photo']['person']));\n",
      "df_fav = pd.DataFrame(pd.to_datetime(df_tmp['favedate'], unit='s'))\n",
      "num_p = json_tmp['photo']['pages']\n",
      "num_p"
     ],
     "language": "python",
     "metadata": {
      "code_folding": []
     },
     "outputs": [
      {
       "metadata": {},
       "output_type": "pyout",
       "prompt_number": 6,
       "text": [
        "20"
       ]
      }
     ],
     "prompt_number": 6
    },
    {
     "cell_type": "markdown",
     "metadata": {},
     "source": [
      "- Because we work with relative time we need to extract the posting time and to convert it to a `pandas.Timestamp` object."
     ]
    },
    {
     "cell_type": "code",
     "collapsed": false,
     "input": [
      "str_tmp = flickr.photos_getInfo(photo_id=p_id);\n",
      "tt = int(json.loads(str_tmp[14:-1])['photo']['dates']['posted'])\n",
      "posted = pd.to_datetime(tt, unit='s')\n",
      "posted"
     ],
     "language": "python",
     "metadata": {},
     "outputs": [
      {
       "metadata": {},
       "output_type": "pyout",
       "prompt_number": 7,
       "text": [
        "Timestamp('2014-07-29 18:44:12')"
       ]
      }
     ],
     "prompt_number": 7
    },
    {
     "cell_type": "markdown",
     "metadata": {},
     "source": [
      "- Then we may continue extracting the rest of faves timestamps"
     ]
    },
    {
     "cell_type": "code",
     "collapsed": false,
     "input": [
      "for i in arange(2, num_p+1):\n",
      "    str_tmp = \\\n",
      "    flickr.photos_getFavorites(photo_id=p_id, page=i, per_page=pp)\n",
      "\n",
      "    json_tmp = json.loads(str_tmp[14:-1]);\n",
      "    df_tmp = pd.read_json(json.dumps(json_tmp['photo']['person']))\n",
      "    df_fav = df_fav.append(pd.DataFrame(pd.to_datetime(df_tmp['favedate'],\\\n",
      "                                                       unit='s')), ignore_index=True)\n",
      "#print \"data frame\\n\", df_fav"
     ],
     "language": "python",
     "metadata": {},
     "outputs": [],
     "prompt_number": 8
    },
    {
     "cell_type": "markdown",
     "metadata": {},
     "source": [
      "- Making a colum with time difference between post time and fave time"
     ]
    },
    {
     "cell_type": "code",
     "collapsed": false,
     "input": [
      "df_fav['diff'] = df_fav['favedate'] - posted"
     ],
     "language": "python",
     "metadata": {},
     "outputs": [],
     "prompt_number": 9
    },
    {
     "cell_type": "markdown",
     "metadata": {},
     "source": [
      "- Variable with time difference in hours"
     ]
    },
    {
     "cell_type": "code",
     "collapsed": false,
     "input": [
      "ts=(df_fav['diff'].astype('timedelta64[s]').astype(float)/3600);"
     ],
     "language": "python",
     "metadata": {},
     "outputs": [],
     "prompt_number": 10
    },
    {
     "cell_type": "markdown",
     "metadata": {},
     "source": [
      "- Finally we can draw a histogram of the evolution of number of favorites as this time difference. It gives us the dynamics of the number of favorites."
     ]
    },
    {
     "cell_type": "code",
     "collapsed": false,
     "input": [
      "figsize(17,5)\n",
      "ts.hist(bins=50, color='slategrey', histtype='stepfilled')\n",
      "xlabel('hours'); ylabel('Number of favorites')"
     ],
     "language": "python",
     "metadata": {},
     "outputs": [
      {
       "metadata": {},
       "output_type": "pyout",
       "prompt_number": 11,
       "text": [
        "<matplotlib.text.Text at 0x7f1551003450>"
       ]
      },
      {
       "metadata": {},
       "output_type": "display_data",
       "png": "[encoded data removed]",
       "text": [
        "<matplotlib.figure.Figure at 0x7f15611b7850>"
       ]
      }
     ],
     "prompt_number": 11
    },
    {
     "cell_type": "markdown",
     "metadata": {},
     "source": [
      "- Let's see if we can prettify this by importing the `seaborn` package that is built on top of `matplotlib` for statistical visualization."
     ]
    },
    {
     "cell_type": "code",
     "collapsed": false,
     "input": [
      "import seaborn as sb"
     ],
     "language": "python",
     "metadata": {},
     "outputs": [],
     "prompt_number": 52
    },
    {
     "cell_type": "code",
     "collapsed": false,
     "input": [
      "figsize(17,5)\n",
      "ts.hist(bins=50, color='slategrey', histtype='stepfilled')\n",
      "xlabel('hours'); ylabel('Number of favorites')"
     ],
     "language": "python",
     "metadata": {},
     "outputs": [
      {
       "metadata": {},
       "output_type": "pyout",
       "prompt_number": 13,
       "text": [
        "<matplotlib.text.Text at 0x7f15462ebd10>"
       ]
      },
      {
       "metadata": {},
       "output_type": "display_data",
       "png": "[encoded data removed]",
       "text": [
        "<matplotlib.figure.Figure at 0x7f154633f950>"
       ]
      }
     ],
     "prompt_number": 13
    },
    {
     "cell_type": "markdown",
     "metadata": {},
     "source": [
      "- Nice! Now, we would like to visualize information not only for one photo, but for many others that also figure on the explore page. What we have to do is to extract the id's of these photos, repeat the fave extraction operation for each of them and stack the data in a dataframe. To do so im a more systematic way, we may want to define a function:"
     ]
    },
    {
     "cell_type": "code",
     "collapsed": false,
     "input": [
      "def getFlickrActivity(p_id):\n",
      "    pp = 50;\n",
      "        \n",
      "    # time posted\n",
      "    str_tmp = flickr.photos_getInfo(photo_id=p_id)\n",
      "    tt = int(json.loads(str_tmp[14:-1])['photo']['dates']['posted'])\n",
      "    posted = pd.to_datetime(tt, unit='s')\n",
      "    views = int(json.loads(str_tmp[14:-1])['photo']['views'])\n",
      "    \n",
      "    # parse first page (necessary to know the total number of pages)\n",
      "    str_tmp = flickr.photos_getFavorites(photo_id=p_id, per_page=pp)\n",
      "    json_tmp = json.loads(str_tmp[14:-1])\n",
      "    num_p = json_tmp['photo']['pages']\n",
      "    df_tmp = pd.read_json(json.dumps(json_tmp['photo']['person']))\n",
      "    dt = pd.Series(pd.to_datetime(df_tmp['favedate'], unit='s'))\n",
      "    df = pd.DataFrame({ 'time' : dt,\n",
      "                        'event_type' : 'f', \n",
      "                        'photo_id' : p_id, \n",
      "                        'posted' : posted,\n",
      "                        'views' : views})\n",
      "    \n",
      "    # parse other pages\n",
      "    for i in arange(2, num_p+1):\n",
      "        str_tmp = \\\n",
      "        flickr.photos_getFavorites(photo_id=p_id, page=i, per_page=pp);\n",
      "        json_tmp = json.loads(str_tmp[14:-1])\n",
      "        df_tmp = pd.read_json(json.dumps(json_tmp['photo']['person']));\n",
      "        dt = pd.Series(pd.to_datetime(df_tmp['favedate'], unit='s'))\n",
      "        df = df.append(pd.DataFrame({ 'time' : dt,\n",
      "                        'event_type' : 'f', \n",
      "                        'photo_id' : p_id, \n",
      "                        'posted' : posted,\n",
      "                        'views' : views}))\n",
      "        \n",
      "    # do the same with comments (no page parsing required)\n",
      "    str_tmp = json.loads(flickr.photos_comments_getList(photo_id=p_id)[14:-1])\n",
      "    df_tmp = pd.read_json(json.dumps(str_tmp['comments']['comment']))\n",
      "    dt = pd.Series(pd.to_datetime(df_tmp['datecreate'], unit='s'))\n",
      "    df = df.append(pd.DataFrame({ 'time' : dt,\n",
      "                        'event_type' : 'c', \n",
      "                        'photo_id' : p_id, \n",
      "                        'posted' : posted,\n",
      "                        'views' : views}), ignore_index=True)\n",
      "\n",
      "    return df"
     ],
     "language": "python",
     "metadata": {
      "code_folding": []
     },
     "outputs": [],
     "prompt_number": 104
    },
    {
     "cell_type": "markdown",
     "metadata": {},
     "source": [
      "- To do something nifty, we are returning a data frame with 5 columns\n",
      "    - 'event_type' (fave or comment)\n",
      "    - 'photo_id' \n",
      "    - 'posted' date and time of the post\n",
      "    - 'time' date and time of the activity event\n",
      "    - 'views' number of views (unfortunately it is not possible to get their individual date/time)\n",
      "- With this format, we'll be able to store the information concerning  several photos in one data frame by aggregating the function outputs"
     ]
    },
    {
     "cell_type": "code",
     "collapsed": false,
     "input": [
      "df_one = getFlickrActivity('14829407792')"
     ],
     "language": "python",
     "metadata": {},
     "outputs": [],
     "prompt_number": 105
    },
    {
     "cell_type": "code",
     "collapsed": false,
     "input": [
      "df_one"
     ],
     "language": "python",
     "metadata": {},
     "outputs": [
      {
       "html": [
        "<div style=\"max-height:1000px;max-width:1500px;overflow:auto;\">\n",
        "<table border=\"1\" class=\"dataframe\">\n",
        "  <thead>\n",
        "    <tr style=\"text-align: right;\">\n",
        "      <th></th>\n",
        "      <th>event_type</th>\n",
        "      <th>photo_id</th>\n",
        "      <th>posted</th>\n",
        "      <th>time</th>\n",
        "      <th>views</th>\n",
        "    </tr>\n",
        "  </thead>\n",
        "  <tbody>\n",
        "    <tr>\n",
        "      <th>0 </th>\n",
        "      <td> f</td>\n",
        "      <td> 14829407792</td>\n",
        "      <td>2014-08-04 19:12:19</td>\n",
        "      <td>2014-08-06 20:00:17</td>\n",
        "      <td> 179</td>\n",
        "    </tr>\n",
        "    <tr>\n",
        "      <th>1 </th>\n",
        "      <td> f</td>\n",
        "      <td> 14829407792</td>\n",
        "      <td>2014-08-04 19:12:19</td>\n",
        "      <td>2014-08-06 09:32:03</td>\n",
        "      <td> 179</td>\n",
        "    </tr>\n",
        "    <tr>\n",
        "      <th>2 </th>\n",
        "      <td> f</td>\n",
        "      <td> 14829407792</td>\n",
        "      <td>2014-08-04 19:12:19</td>\n",
        "      <td>2014-08-06 07:38:48</td>\n",
        "      <td> 179</td>\n",
        "    </tr>\n",
        "    <tr>\n",
        "      <th>3 </th>\n",
        "      <td> f</td>\n",
        "      <td> 14829407792</td>\n",
        "      <td>2014-08-04 19:12:19</td>\n",
        "      <td>2014-08-05 17:50:05</td>\n",
        "      <td> 179</td>\n",
        "    </tr>\n",
        "    <tr>\n",
        "      <th>4 </th>\n",
        "      <td> f</td>\n",
        "      <td> 14829407792</td>\n",
        "      <td>2014-08-04 19:12:19</td>\n",
        "      <td>2014-08-05 16:00:45</td>\n",
        "      <td> 179</td>\n",
        "    </tr>\n",
        "    <tr>\n",
        "      <th>5 </th>\n",
        "      <td> f</td>\n",
        "      <td> 14829407792</td>\n",
        "      <td>2014-08-04 19:12:19</td>\n",
        "      <td>2014-08-05 08:01:59</td>\n",
        "      <td> 179</td>\n",
        "    </tr>\n",
        "    <tr>\n",
        "      <th>6 </th>\n",
        "      <td> f</td>\n",
        "      <td> 14829407792</td>\n",
        "      <td>2014-08-04 19:12:19</td>\n",
        "      <td>2014-08-04 22:24:17</td>\n",
        "      <td> 179</td>\n",
        "    </tr>\n",
        "    <tr>\n",
        "      <th>7 </th>\n",
        "      <td> f</td>\n",
        "      <td> 14829407792</td>\n",
        "      <td>2014-08-04 19:12:19</td>\n",
        "      <td>2014-08-04 21:15:29</td>\n",
        "      <td> 179</td>\n",
        "    </tr>\n",
        "    <tr>\n",
        "      <th>8 </th>\n",
        "      <td> f</td>\n",
        "      <td> 14829407792</td>\n",
        "      <td>2014-08-04 19:12:19</td>\n",
        "      <td>2014-08-04 20:48:55</td>\n",
        "      <td> 179</td>\n",
        "    </tr>\n",
        "    <tr>\n",
        "      <th>9 </th>\n",
        "      <td> f</td>\n",
        "      <td> 14829407792</td>\n",
        "      <td>2014-08-04 19:12:19</td>\n",
        "      <td>2014-08-04 20:02:32</td>\n",
        "      <td> 179</td>\n",
        "    </tr>\n",
        "    <tr>\n",
        "      <th>10</th>\n",
        "      <td> f</td>\n",
        "      <td> 14829407792</td>\n",
        "      <td>2014-08-04 19:12:19</td>\n",
        "      <td>2014-08-04 19:56:28</td>\n",
        "      <td> 179</td>\n",
        "    </tr>\n",
        "    <tr>\n",
        "      <th>11</th>\n",
        "      <td> f</td>\n",
        "      <td> 14829407792</td>\n",
        "      <td>2014-08-04 19:12:19</td>\n",
        "      <td>2014-08-04 19:32:04</td>\n",
        "      <td> 179</td>\n",
        "    </tr>\n",
        "    <tr>\n",
        "      <th>12</th>\n",
        "      <td> c</td>\n",
        "      <td> 14829407792</td>\n",
        "      <td>2014-08-04 19:12:19</td>\n",
        "      <td>2014-08-04 22:24:32</td>\n",
        "      <td> 179</td>\n",
        "    </tr>\n",
        "    <tr>\n",
        "      <th>13</th>\n",
        "      <td> c</td>\n",
        "      <td> 14829407792</td>\n",
        "      <td>2014-08-04 19:12:19</td>\n",
        "      <td>2014-08-05 15:33:29</td>\n",
        "      <td> 179</td>\n",
        "    </tr>\n",
        "    <tr>\n",
        "      <th>14</th>\n",
        "      <td> c</td>\n",
        "      <td> 14829407792</td>\n",
        "      <td>2014-08-04 19:12:19</td>\n",
        "      <td>2014-08-05 17:50:45</td>\n",
        "      <td> 179</td>\n",
        "    </tr>\n",
        "    <tr>\n",
        "      <th>15</th>\n",
        "      <td> c</td>\n",
        "      <td> 14829407792</td>\n",
        "      <td>2014-08-04 19:12:19</td>\n",
        "      <td>2014-08-06 07:14:58</td>\n",
        "      <td> 179</td>\n",
        "    </tr>\n",
        "    <tr>\n",
        "      <th>16</th>\n",
        "      <td> c</td>\n",
        "      <td> 14829407792</td>\n",
        "      <td>2014-08-04 19:12:19</td>\n",
        "      <td>2014-08-06 07:16:28</td>\n",
        "      <td> 179</td>\n",
        "    </tr>\n",
        "    <tr>\n",
        "      <th>17</th>\n",
        "      <td> c</td>\n",
        "      <td> 14829407792</td>\n",
        "      <td>2014-08-04 19:12:19</td>\n",
        "      <td>2014-08-06 07:17:54</td>\n",
        "      <td> 179</td>\n",
        "    </tr>\n",
        "  </tbody>\n",
        "</table>\n",
        "</div>"
       ],
       "metadata": {},
       "output_type": "pyout",
       "prompt_number": 106,
       "text": [
        "   event_type     photo_id              posted                time  views\n",
        "0           f  14829407792 2014-08-04 19:12:19 2014-08-06 20:00:17    179\n",
        "1           f  14829407792 2014-08-04 19:12:19 2014-08-06 09:32:03    179\n",
        "2           f  14829407792 2014-08-04 19:12:19 2014-08-06 07:38:48    179\n",
        "3           f  14829407792 2014-08-04 19:12:19 2014-08-05 17:50:05    179\n",
        "4           f  14829407792 2014-08-04 19:12:19 2014-08-05 16:00:45    179\n",
        "5           f  14829407792 2014-08-04 19:12:19 2014-08-05 08:01:59    179\n",
        "6           f  14829407792 2014-08-04 19:12:19 2014-08-04 22:24:17    179\n",
        "7           f  14829407792 2014-08-04 19:12:19 2014-08-04 21:15:29    179\n",
        "8           f  14829407792 2014-08-04 19:12:19 2014-08-04 20:48:55    179\n",
        "9           f  14829407792 2014-08-04 19:12:19 2014-08-04 20:02:32    179\n",
        "10          f  14829407792 2014-08-04 19:12:19 2014-08-04 19:56:28    179\n",
        "11          f  14829407792 2014-08-04 19:12:19 2014-08-04 19:32:04    179\n",
        "12          c  14829407792 2014-08-04 19:12:19 2014-08-04 22:24:32    179\n",
        "13          c  14829407792 2014-08-04 19:12:19 2014-08-05 15:33:29    179\n",
        "14          c  14829407792 2014-08-04 19:12:19 2014-08-05 17:50:45    179\n",
        "15          c  14829407792 2014-08-04 19:12:19 2014-08-06 07:14:58    179\n",
        "16          c  14829407792 2014-08-04 19:12:19 2014-08-06 07:16:28    179\n",
        "17          c  14829407792 2014-08-04 19:12:19 2014-08-06 07:17:54    179"
       ]
      }
     ],
     "prompt_number": 106
    },
    {
     "cell_type": "markdown",
     "metadata": {},
     "source": [
      "- The cool thing is that with pandas, it is easy to sort this information according to one column, as for example:"
     ]
    },
    {
     "cell_type": "code",
     "collapsed": false,
     "input": [
      "df_one.sort('time').head(10)"
     ],
     "language": "python",
     "metadata": {},
     "outputs": [
      {
       "html": [
        "<div style=\"max-height:1000px;max-width:1500px;overflow:auto;\">\n",
        "<table border=\"1\" class=\"dataframe\">\n",
        "  <thead>\n",
        "    <tr style=\"text-align: right;\">\n",
        "      <th></th>\n",
        "      <th>event_type</th>\n",
        "      <th>photo_id</th>\n",
        "      <th>posted</th>\n",
        "      <th>time</th>\n",
        "      <th>views</th>\n",
        "    </tr>\n",
        "  </thead>\n",
        "  <tbody>\n",
        "    <tr>\n",
        "      <th>11</th>\n",
        "      <td> f</td>\n",
        "      <td> 14829407792</td>\n",
        "      <td>2014-08-04 19:12:19</td>\n",
        "      <td>2014-08-04 19:32:04</td>\n",
        "      <td> 179</td>\n",
        "    </tr>\n",
        "    <tr>\n",
        "      <th>10</th>\n",
        "      <td> f</td>\n",
        "      <td> 14829407792</td>\n",
        "      <td>2014-08-04 19:12:19</td>\n",
        "      <td>2014-08-04 19:56:28</td>\n",
        "      <td> 179</td>\n",
        "    </tr>\n",
        "    <tr>\n",
        "      <th>9 </th>\n",
        "      <td> f</td>\n",
        "      <td> 14829407792</td>\n",
        "      <td>2014-08-04 19:12:19</td>\n",
        "      <td>2014-08-04 20:02:32</td>\n",
        "      <td> 179</td>\n",
        "    </tr>\n",
        "    <tr>\n",
        "      <th>8 </th>\n",
        "      <td> f</td>\n",
        "      <td> 14829407792</td>\n",
        "      <td>2014-08-04 19:12:19</td>\n",
        "      <td>2014-08-04 20:48:55</td>\n",
        "      <td> 179</td>\n",
        "    </tr>\n",
        "    <tr>\n",
        "      <th>7 </th>\n",
        "      <td> f</td>\n",
        "      <td> 14829407792</td>\n",
        "      <td>2014-08-04 19:12:19</td>\n",
        "      <td>2014-08-04 21:15:29</td>\n",
        "      <td> 179</td>\n",
        "    </tr>\n",
        "    <tr>\n",
        "      <th>6 </th>\n",
        "      <td> f</td>\n",
        "      <td> 14829407792</td>\n",
        "      <td>2014-08-04 19:12:19</td>\n",
        "      <td>2014-08-04 22:24:17</td>\n",
        "      <td> 179</td>\n",
        "    </tr>\n",
        "    <tr>\n",
        "      <th>12</th>\n",
        "      <td> c</td>\n",
        "      <td> 14829407792</td>\n",
        "      <td>2014-08-04 19:12:19</td>\n",
        "      <td>2014-08-04 22:24:32</td>\n",
        "      <td> 179</td>\n",
        "    </tr>\n",
        "    <tr>\n",
        "      <th>5 </th>\n",
        "      <td> f</td>\n",
        "      <td> 14829407792</td>\n",
        "      <td>2014-08-04 19:12:19</td>\n",
        "      <td>2014-08-05 08:01:59</td>\n",
        "      <td> 179</td>\n",
        "    </tr>\n",
        "    <tr>\n",
        "      <th>13</th>\n",
        "      <td> c</td>\n",
        "      <td> 14829407792</td>\n",
        "      <td>2014-08-04 19:12:19</td>\n",
        "      <td>2014-08-05 15:33:29</td>\n",
        "      <td> 179</td>\n",
        "    </tr>\n",
        "    <tr>\n",
        "      <th>4 </th>\n",
        "      <td> f</td>\n",
        "      <td> 14829407792</td>\n",
        "      <td>2014-08-04 19:12:19</td>\n",
        "      <td>2014-08-05 16:00:45</td>\n",
        "      <td> 179</td>\n",
        "    </tr>\n",
        "  </tbody>\n",
        "</table>\n",
        "</div>"
       ],
       "metadata": {},
       "output_type": "pyout",
       "prompt_number": 107,
       "text": [
        "   event_type     photo_id              posted                time  views\n",
        "11          f  14829407792 2014-08-04 19:12:19 2014-08-04 19:32:04    179\n",
        "10          f  14829407792 2014-08-04 19:12:19 2014-08-04 19:56:28    179\n",
        "9           f  14829407792 2014-08-04 19:12:19 2014-08-04 20:02:32    179\n",
        "8           f  14829407792 2014-08-04 19:12:19 2014-08-04 20:48:55    179\n",
        "7           f  14829407792 2014-08-04 19:12:19 2014-08-04 21:15:29    179\n",
        "6           f  14829407792 2014-08-04 19:12:19 2014-08-04 22:24:17    179\n",
        "12          c  14829407792 2014-08-04 19:12:19 2014-08-04 22:24:32    179\n",
        "5           f  14829407792 2014-08-04 19:12:19 2014-08-05 08:01:59    179\n",
        "13          c  14829407792 2014-08-04 19:12:19 2014-08-05 15:33:29    179\n",
        "4           f  14829407792 2014-08-04 19:12:19 2014-08-05 16:00:45    179"
       ]
      }
     ],
     "prompt_number": 107
    },
    {
     "cell_type": "markdown",
     "metadata": {},
     "source": [
      "- Let's try to see if we could use this with the photos published in explore ('interesting' ones according to flickr) by defining a function that retrieves the list of these:"
     ]
    },
    {
     "cell_type": "code",
     "collapsed": false,
     "input": [
      "def getInterestingList():\n",
      "    str_tmp = flickr.interestingness_getList()\n",
      "    json_tmp = json.loads(str_tmp[14:-1])\n",
      "    df_tmp = pd.read_json(json.dumps(json_tmp['photos']['photo']))\n",
      "    df = df_tmp['id']\n",
      "    return df # list of photo ids"
     ],
     "language": "python",
     "metadata": {},
     "outputs": [],
     "prompt_number": 40
    },
    {
     "cell_type": "markdown",
     "metadata": {},
     "source": [
      "- and we can combine those two functions to make a bigger data frame containing all the information we want (this might take a bit of time to run...)"
     ]
    },
    {
     "cell_type": "code",
     "collapsed": false,
     "input": [
      "# Making a data frame with pictures from explore\n",
      "df_tmp = getInterestingList()\n",
      "df = pd.DataFrame()\n",
      "for p_id in df_tmp:\n",
      "    df = df.append(getFlickrActivity(p_id), ignore_index=True)"
     ],
     "language": "python",
     "metadata": {},
     "outputs": [],
     "prompt_number": 108
    },
    {
     "cell_type": "code",
     "collapsed": false,
     "input": [
      "df.sort('views').head(15)"
     ],
     "language": "python",
     "metadata": {},
     "outputs": [
      {
       "html": [
        "<div style=\"max-height:1000px;max-width:1500px;overflow:auto;\">\n",
        "<table border=\"1\" class=\"dataframe\">\n",
        "  <thead>\n",
        "    <tr style=\"text-align: right;\">\n",
        "      <th></th>\n",
        "      <th>event_type</th>\n",
        "      <th>photo_id</th>\n",
        "      <th>posted</th>\n",
        "      <th>time</th>\n",
        "      <th>views</th>\n",
        "    </tr>\n",
        "  </thead>\n",
        "  <tbody>\n",
        "    <tr>\n",
        "      <th>18278</th>\n",
        "      <td> f</td>\n",
        "      <td> 14669619448</td>\n",
        "      <td>2014-08-08 02:28:06</td>\n",
        "      <td>2014-08-08 13:47:32</td>\n",
        "      <td> 2602</td>\n",
        "    </tr>\n",
        "    <tr>\n",
        "      <th>18290</th>\n",
        "      <td> f</td>\n",
        "      <td> 14669619448</td>\n",
        "      <td>2014-08-08 02:28:06</td>\n",
        "      <td>2014-08-08 13:16:35</td>\n",
        "      <td> 2602</td>\n",
        "    </tr>\n",
        "    <tr>\n",
        "      <th>18291</th>\n",
        "      <td> f</td>\n",
        "      <td> 14669619448</td>\n",
        "      <td>2014-08-08 02:28:06</td>\n",
        "      <td>2014-08-08 13:15:55</td>\n",
        "      <td> 2602</td>\n",
        "    </tr>\n",
        "    <tr>\n",
        "      <th>18292</th>\n",
        "      <td> f</td>\n",
        "      <td> 14669619448</td>\n",
        "      <td>2014-08-08 02:28:06</td>\n",
        "      <td>2014-08-08 13:11:43</td>\n",
        "      <td> 2602</td>\n",
        "    </tr>\n",
        "    <tr>\n",
        "      <th>18293</th>\n",
        "      <td> f</td>\n",
        "      <td> 14669619448</td>\n",
        "      <td>2014-08-08 02:28:06</td>\n",
        "      <td>2014-08-08 13:07:11</td>\n",
        "      <td> 2602</td>\n",
        "    </tr>\n",
        "    <tr>\n",
        "      <th>18295</th>\n",
        "      <td> f</td>\n",
        "      <td> 14669619448</td>\n",
        "      <td>2014-08-08 02:28:06</td>\n",
        "      <td>2014-08-08 13:04:21</td>\n",
        "      <td> 2602</td>\n",
        "    </tr>\n",
        "    <tr>\n",
        "      <th>18296</th>\n",
        "      <td> f</td>\n",
        "      <td> 14669619448</td>\n",
        "      <td>2014-08-08 02:28:06</td>\n",
        "      <td>2014-08-08 12:35:14</td>\n",
        "      <td> 2602</td>\n",
        "    </tr>\n",
        "    <tr>\n",
        "      <th>18297</th>\n",
        "      <td> f</td>\n",
        "      <td> 14669619448</td>\n",
        "      <td>2014-08-08 02:28:06</td>\n",
        "      <td>2014-08-08 12:32:27</td>\n",
        "      <td> 2602</td>\n",
        "    </tr>\n",
        "    <tr>\n",
        "      <th>18289</th>\n",
        "      <td> f</td>\n",
        "      <td> 14669619448</td>\n",
        "      <td>2014-08-08 02:28:06</td>\n",
        "      <td>2014-08-08 13:17:45</td>\n",
        "      <td> 2602</td>\n",
        "    </tr>\n",
        "    <tr>\n",
        "      <th>18298</th>\n",
        "      <td> f</td>\n",
        "      <td> 14669619448</td>\n",
        "      <td>2014-08-08 02:28:06</td>\n",
        "      <td>2014-08-08 12:31:39</td>\n",
        "      <td> 2602</td>\n",
        "    </tr>\n",
        "    <tr>\n",
        "      <th>18300</th>\n",
        "      <td> f</td>\n",
        "      <td> 14669619448</td>\n",
        "      <td>2014-08-08 02:28:06</td>\n",
        "      <td>2014-08-08 12:28:33</td>\n",
        "      <td> 2602</td>\n",
        "    </tr>\n",
        "    <tr>\n",
        "      <th>18301</th>\n",
        "      <td> f</td>\n",
        "      <td> 14669619448</td>\n",
        "      <td>2014-08-08 02:28:06</td>\n",
        "      <td>2014-08-08 12:28:31</td>\n",
        "      <td> 2602</td>\n",
        "    </tr>\n",
        "    <tr>\n",
        "      <th>18302</th>\n",
        "      <td> f</td>\n",
        "      <td> 14669619448</td>\n",
        "      <td>2014-08-08 02:28:06</td>\n",
        "      <td>2014-08-08 12:22:35</td>\n",
        "      <td> 2602</td>\n",
        "    </tr>\n",
        "    <tr>\n",
        "      <th>18303</th>\n",
        "      <td> f</td>\n",
        "      <td> 14669619448</td>\n",
        "      <td>2014-08-08 02:28:06</td>\n",
        "      <td>2014-08-08 12:15:53</td>\n",
        "      <td> 2602</td>\n",
        "    </tr>\n",
        "    <tr>\n",
        "      <th>18304</th>\n",
        "      <td> f</td>\n",
        "      <td> 14669619448</td>\n",
        "      <td>2014-08-08 02:28:06</td>\n",
        "      <td>2014-08-08 12:15:18</td>\n",
        "      <td> 2602</td>\n",
        "    </tr>\n",
        "  </tbody>\n",
        "</table>\n",
        "</div>"
       ],
       "metadata": {},
       "output_type": "pyout",
       "prompt_number": 110,
       "text": [
        "      event_type     photo_id              posted                time  views\n",
        "18278          f  14669619448 2014-08-08 02:28:06 2014-08-08 13:47:32   2602\n",
        "18290          f  14669619448 2014-08-08 02:28:06 2014-08-08 13:16:35   2602\n",
        "18291          f  14669619448 2014-08-08 02:28:06 2014-08-08 13:15:55   2602\n",
        "18292          f  14669619448 2014-08-08 02:28:06 2014-08-08 13:11:43   2602\n",
        "18293          f  14669619448 2014-08-08 02:28:06 2014-08-08 13:07:11   2602\n",
        "18295          f  14669619448 2014-08-08 02:28:06 2014-08-08 13:04:21   2602\n",
        "18296          f  14669619448 2014-08-08 02:28:06 2014-08-08 12:35:14   2602\n",
        "18297          f  14669619448 2014-08-08 02:28:06 2014-08-08 12:32:27   2602\n",
        "18289          f  14669619448 2014-08-08 02:28:06 2014-08-08 13:17:45   2602\n",
        "18298          f  14669619448 2014-08-08 02:28:06 2014-08-08 12:31:39   2602\n",
        "18300          f  14669619448 2014-08-08 02:28:06 2014-08-08 12:28:33   2602\n",
        "18301          f  14669619448 2014-08-08 02:28:06 2014-08-08 12:28:31   2602\n",
        "18302          f  14669619448 2014-08-08 02:28:06 2014-08-08 12:22:35   2602\n",
        "18303          f  14669619448 2014-08-08 02:28:06 2014-08-08 12:15:53   2602\n",
        "18304          f  14669619448 2014-08-08 02:28:06 2014-08-08 12:15:18   2602"
       ]
      }
     ],
     "prompt_number": 110
    },
    {
     "cell_type": "code",
     "collapsed": false,
     "input": [
      "tt=pd.DatetimeIndex(df['time'])\n",
      "hist(tt.hour, bins=23, histtype='stepfilled')\n"
     ],
     "language": "python",
     "metadata": {},
     "outputs": [
      {
       "metadata": {},
       "output_type": "pyout",
       "prompt_number": 113,
       "text": [
        "(array([   99.,    72.,    93.,   102.,  1389.,  1248.,  1214.,  1667.,\n",
        "         1404.,  1374.,  1345.,  1866.,  2274.,  2352.,   593.,   170.,\n",
        "          198.,   215.,   174.,   202.,   187.,   142.,   291.]),\n",
        " array([  0.,   1.,   2.,   3.,   4.,   5.,   6.,   7.,   8.,   9.,  10.,\n",
        "         11.,  12.,  13.,  14.,  15.,  16.,  17.,  18.,  19.,  20.,  21.,\n",
        "         22.,  23.]),\n",
        " <a list of 1 Patch objects>)"
       ]
      },
      {
       "metadata": {},
       "output_type": "display_data",
       "png": "[encoded data removed]",
       "text": [
        "<matplotlib.figure.Figure at 0x7f2b04ee0b90>"
       ]
      }
     ],
     "prompt_number": 113
    },
    {
     "cell_type": "code",
     "collapsed": false,
     "input": [
      "tt=pd.DatetimeIndex(df['posted'])\n",
      "hist(tt.hour, bins=23, histtype='stepfilled')"
     ],
     "language": "python",
     "metadata": {},
     "outputs": [
      {
       "metadata": {},
       "output_type": "pyout",
       "prompt_number": 114,
       "text": [
        "(array([  159.,     0.,     0.,     0.,     0.,     0.,  1245.,  2077.,\n",
        "         1038.,   978.,  1160.,     0.,   900.,  1846.,  2492.,   854.,\n",
        "         1460.,  1128.,  1574.,   656.,   395.,   545.,   164.]),\n",
        " array([  2.        ,   2.91304348,   3.82608696,   4.73913043,\n",
        "          5.65217391,   6.56521739,   7.47826087,   8.39130435,\n",
        "          9.30434783,  10.2173913 ,  11.13043478,  12.04347826,\n",
        "         12.95652174,  13.86956522,  14.7826087 ,  15.69565217,\n",
        "         16.60869565,  17.52173913,  18.43478261,  19.34782609,\n",
        "         20.26086957,  21.17391304,  22.08695652,  23.        ]),\n",
        " <a list of 1 Patch objects>)"
       ]
      },
      {
       "metadata": {},
       "output_type": "display_data",
       "png": "[encoded data removed]",
       "text": [
        "<matplotlib.figure.Figure at 0x7f2b04c41c10>"
       ]
      }
     ],
     "prompt_number": 114
    },
    {
     "cell_type": "code",
     "collapsed": false,
     "input": [
      "#df.to_csv('flickr_activity_explore.csv')"
     ],
     "language": "python",
     "metadata": {},
     "outputs": [],
     "prompt_number": 76
    }
   ],
   "metadata": {}
  }
 ]
}